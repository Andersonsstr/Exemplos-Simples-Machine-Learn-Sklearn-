{
  "nbformat": 4,
  "nbformat_minor": 0,
  "metadata": {
    "colab": {
      "name": "Diagnosticando Diabetes Classificacao.ipynb",
      "provenance": [],
      "authorship_tag": "ABX9TyPlYafW/Upyy30BMuGxYg3L",
      "include_colab_link": true
    },
    "kernelspec": {
      "name": "python3",
      "display_name": "Python 3"
    },
    "language_info": {
      "name": "python"
    }
  },
  "cells": [
    {
      "cell_type": "markdown",
      "metadata": {
        "id": "view-in-github",
        "colab_type": "text"
      },
      "source": [
        "<a href=\"https://colab.research.google.com/github/Andersonsstr/Exemplos-Simples-Machine-Learn-Sklearn-/blob/main/Diagnosticando_Diabetes_Classificacao.ipynb\" target=\"_parent\"><img src=\"https://colab.research.google.com/assets/colab-badge.svg\" alt=\"Open In Colab\"/></a>"
      ]
    },
    {
      "cell_type": "code",
      "metadata": {
        "id": "2puIx2R6AcZO"
      },
      "source": [
        "import pandas as pd\n",
        "import seaborn as sns\n",
        "import numpy as np\n",
        "from sklearn import metrics"
      ],
      "execution_count": 1,
      "outputs": []
    },
    {
      "cell_type": "markdown",
      "metadata": {
        "id": "KYqcj7IECCM_"
      },
      "source": [
        "Descrição: Esta base de dados é original do Instituto Nacional de Doenças da Diabetes, Digestivas e dos Rins (National Institute of Diabetes and Digestive and Kidney Disease). O objetivo desta base de dados é para realizar uma predição baseada em medidas de diagnóstico se um paciente possui ou não diabetes.\n",
        "\n",
        "fonte da explicação: https://docs.lemonade.org.br/pt-br/spark/base-de-dados/"
      ]
    },
    {
      "cell_type": "markdown",
      "metadata": {
        "id": "BQcxnZ9XC2Hg"
      },
      "source": [
        "Conhecendo as features:\n",
        "\n",
        "\n",
        "\n",
        "*   Pregnancies: Número de vezes grávida\n",
        "*   Glucose: Concentração plasmática de glicose por 2 horas em teste oral de tolerância à glicose\n",
        "*   BloodPressure: Pressão arterial diastólica (mm Hg)\n",
        "*   SkinThickness: Espessura da dobra da pele do tríceps (mm)\n",
        "*   Insulin: 2-Hour serum insulin (mu U/ml)\n",
        "*   BMI: Índice de massa corporal (peso em kg / (altura em m)^2)\n",
        "*   DiabetesPedigreeFunction: Função de pedigree de diabetes\n",
        "*   Age: Idade\n",
        "*   class (Outcome): 0 = Negativo e 1 = Positivo\n",
        "\n"
      ]
    },
    {
      "cell_type": "markdown",
      "metadata": {
        "id": "Zo5C-pRwCywW"
      },
      "source": [
        "#Pré-Processamento"
      ]
    },
    {
      "cell_type": "code",
      "metadata": {
        "colab": {
          "base_uri": "https://localhost:8080/",
          "height": 204
        },
        "id": "s7zyi5BGAgCH",
        "outputId": "836445f5-10c1-4a6a-d4aa-47ad7f441dda"
      },
      "source": [
        "uri = \"https://raw.githubusercontent.com/a-coders-guide-to-ai/a-coders-guide-to-neural-networks/master/data/diabetes.csv\"\n",
        "dados = pd.read_csv(uri)\n",
        "dados.head()"
      ],
      "execution_count": 2,
      "outputs": [
        {
          "output_type": "execute_result",
          "data": {
            "text/html": [
              "<div>\n",
              "<style scoped>\n",
              "    .dataframe tbody tr th:only-of-type {\n",
              "        vertical-align: middle;\n",
              "    }\n",
              "\n",
              "    .dataframe tbody tr th {\n",
              "        vertical-align: top;\n",
              "    }\n",
              "\n",
              "    .dataframe thead th {\n",
              "        text-align: right;\n",
              "    }\n",
              "</style>\n",
              "<table border=\"1\" class=\"dataframe\">\n",
              "  <thead>\n",
              "    <tr style=\"text-align: right;\">\n",
              "      <th></th>\n",
              "      <th>Pregnancies</th>\n",
              "      <th>Glucose</th>\n",
              "      <th>BloodPressure</th>\n",
              "      <th>SkinThickness</th>\n",
              "      <th>Insulin</th>\n",
              "      <th>BMI</th>\n",
              "      <th>DiabetesPedigreeFunction</th>\n",
              "      <th>Age</th>\n",
              "      <th>Outcome</th>\n",
              "    </tr>\n",
              "  </thead>\n",
              "  <tbody>\n",
              "    <tr>\n",
              "      <th>0</th>\n",
              "      <td>6</td>\n",
              "      <td>148</td>\n",
              "      <td>72</td>\n",
              "      <td>35</td>\n",
              "      <td>0</td>\n",
              "      <td>33.6</td>\n",
              "      <td>0.627</td>\n",
              "      <td>50</td>\n",
              "      <td>1</td>\n",
              "    </tr>\n",
              "    <tr>\n",
              "      <th>1</th>\n",
              "      <td>1</td>\n",
              "      <td>85</td>\n",
              "      <td>66</td>\n",
              "      <td>29</td>\n",
              "      <td>0</td>\n",
              "      <td>26.6</td>\n",
              "      <td>0.351</td>\n",
              "      <td>31</td>\n",
              "      <td>0</td>\n",
              "    </tr>\n",
              "    <tr>\n",
              "      <th>2</th>\n",
              "      <td>8</td>\n",
              "      <td>183</td>\n",
              "      <td>64</td>\n",
              "      <td>0</td>\n",
              "      <td>0</td>\n",
              "      <td>23.3</td>\n",
              "      <td>0.672</td>\n",
              "      <td>32</td>\n",
              "      <td>1</td>\n",
              "    </tr>\n",
              "    <tr>\n",
              "      <th>3</th>\n",
              "      <td>1</td>\n",
              "      <td>89</td>\n",
              "      <td>66</td>\n",
              "      <td>23</td>\n",
              "      <td>94</td>\n",
              "      <td>28.1</td>\n",
              "      <td>0.167</td>\n",
              "      <td>21</td>\n",
              "      <td>0</td>\n",
              "    </tr>\n",
              "    <tr>\n",
              "      <th>4</th>\n",
              "      <td>0</td>\n",
              "      <td>137</td>\n",
              "      <td>40</td>\n",
              "      <td>35</td>\n",
              "      <td>168</td>\n",
              "      <td>43.1</td>\n",
              "      <td>2.288</td>\n",
              "      <td>33</td>\n",
              "      <td>1</td>\n",
              "    </tr>\n",
              "  </tbody>\n",
              "</table>\n",
              "</div>"
            ],
            "text/plain": [
              "   Pregnancies  Glucose  BloodPressure  ...  DiabetesPedigreeFunction  Age  Outcome\n",
              "0            6      148             72  ...                     0.627   50        1\n",
              "1            1       85             66  ...                     0.351   31        0\n",
              "2            8      183             64  ...                     0.672   32        1\n",
              "3            1       89             66  ...                     0.167   21        0\n",
              "4            0      137             40  ...                     2.288   33        1\n",
              "\n",
              "[5 rows x 9 columns]"
            ]
          },
          "metadata": {},
          "execution_count": 2
        }
      ]
    },
    {
      "cell_type": "code",
      "metadata": {
        "colab": {
          "base_uri": "https://localhost:8080/"
        },
        "id": "tzsm-BVknWWk",
        "outputId": "3f10cc4c-06a1-43dd-9c75-03938f3ffa46"
      },
      "source": [
        "print('Amostras e Features:', dados.shape)"
      ],
      "execution_count": 3,
      "outputs": [
        {
          "output_type": "stream",
          "name": "stdout",
          "text": [
            "Amostras e Features: (768, 9)\n"
          ]
        }
      ]
    },
    {
      "cell_type": "code",
      "metadata": {
        "id": "H5zD6mcudtX_"
      },
      "source": [
        "#Mapeando as nomenclaturas das colunas para deixar com os nomes mais amigáveis\n",
        "mapa = {\n",
        "    \"Pregnancies\" : \"gravidez\",\n",
        "    \"Glucose\" : \"glicose\",\n",
        "    \"BloodPressure\" : \"pressao_arterial\",\n",
        "    \"SkinThickness\" : \"espessura_da_pele\",\n",
        "    \"Insulin\" : \"insulina\",\n",
        "    \"BMI\" : \"imc\",\n",
        "    \"DiabetesPedigreeFunction\" : \"dpf\",\n",
        "    \"Age\" : \"idade\",\n",
        "    \"Outcome\" : \"resultado\"\n",
        "}"
      ],
      "execution_count": 4,
      "outputs": []
    },
    {
      "cell_type": "code",
      "metadata": {
        "colab": {
          "base_uri": "https://localhost:8080/",
          "height": 204
        },
        "id": "osFu_Ty2fKu_",
        "outputId": "758b3ca8-b8a0-4fc4-b599-fbf5e17de4a1"
      },
      "source": [
        "dados = dados.rename(columns = mapa)\n",
        "dados.head()"
      ],
      "execution_count": 5,
      "outputs": [
        {
          "output_type": "execute_result",
          "data": {
            "text/html": [
              "<div>\n",
              "<style scoped>\n",
              "    .dataframe tbody tr th:only-of-type {\n",
              "        vertical-align: middle;\n",
              "    }\n",
              "\n",
              "    .dataframe tbody tr th {\n",
              "        vertical-align: top;\n",
              "    }\n",
              "\n",
              "    .dataframe thead th {\n",
              "        text-align: right;\n",
              "    }\n",
              "</style>\n",
              "<table border=\"1\" class=\"dataframe\">\n",
              "  <thead>\n",
              "    <tr style=\"text-align: right;\">\n",
              "      <th></th>\n",
              "      <th>gravidez</th>\n",
              "      <th>glicose</th>\n",
              "      <th>pressao_arterial</th>\n",
              "      <th>espessura_da_pele</th>\n",
              "      <th>insulina</th>\n",
              "      <th>imc</th>\n",
              "      <th>dpf</th>\n",
              "      <th>idade</th>\n",
              "      <th>resultado</th>\n",
              "    </tr>\n",
              "  </thead>\n",
              "  <tbody>\n",
              "    <tr>\n",
              "      <th>0</th>\n",
              "      <td>6</td>\n",
              "      <td>148</td>\n",
              "      <td>72</td>\n",
              "      <td>35</td>\n",
              "      <td>0</td>\n",
              "      <td>33.6</td>\n",
              "      <td>0.627</td>\n",
              "      <td>50</td>\n",
              "      <td>1</td>\n",
              "    </tr>\n",
              "    <tr>\n",
              "      <th>1</th>\n",
              "      <td>1</td>\n",
              "      <td>85</td>\n",
              "      <td>66</td>\n",
              "      <td>29</td>\n",
              "      <td>0</td>\n",
              "      <td>26.6</td>\n",
              "      <td>0.351</td>\n",
              "      <td>31</td>\n",
              "      <td>0</td>\n",
              "    </tr>\n",
              "    <tr>\n",
              "      <th>2</th>\n",
              "      <td>8</td>\n",
              "      <td>183</td>\n",
              "      <td>64</td>\n",
              "      <td>0</td>\n",
              "      <td>0</td>\n",
              "      <td>23.3</td>\n",
              "      <td>0.672</td>\n",
              "      <td>32</td>\n",
              "      <td>1</td>\n",
              "    </tr>\n",
              "    <tr>\n",
              "      <th>3</th>\n",
              "      <td>1</td>\n",
              "      <td>89</td>\n",
              "      <td>66</td>\n",
              "      <td>23</td>\n",
              "      <td>94</td>\n",
              "      <td>28.1</td>\n",
              "      <td>0.167</td>\n",
              "      <td>21</td>\n",
              "      <td>0</td>\n",
              "    </tr>\n",
              "    <tr>\n",
              "      <th>4</th>\n",
              "      <td>0</td>\n",
              "      <td>137</td>\n",
              "      <td>40</td>\n",
              "      <td>35</td>\n",
              "      <td>168</td>\n",
              "      <td>43.1</td>\n",
              "      <td>2.288</td>\n",
              "      <td>33</td>\n",
              "      <td>1</td>\n",
              "    </tr>\n",
              "  </tbody>\n",
              "</table>\n",
              "</div>"
            ],
            "text/plain": [
              "   gravidez  glicose  pressao_arterial  ...    dpf  idade  resultado\n",
              "0         6      148                72  ...  0.627     50          1\n",
              "1         1       85                66  ...  0.351     31          0\n",
              "2         8      183                64  ...  0.672     32          1\n",
              "3         1       89                66  ...  0.167     21          0\n",
              "4         0      137                40  ...  2.288     33          1\n",
              "\n",
              "[5 rows x 9 columns]"
            ]
          },
          "metadata": {},
          "execution_count": 5
        }
      ]
    },
    {
      "cell_type": "code",
      "metadata": {
        "colab": {
          "base_uri": "https://localhost:8080/"
        },
        "id": "h75BROEBfYuO",
        "outputId": "7d399628-6519-45d6-d845-d2a59e7eeba5"
      },
      "source": [
        "dados.info()"
      ],
      "execution_count": 6,
      "outputs": [
        {
          "output_type": "stream",
          "name": "stdout",
          "text": [
            "<class 'pandas.core.frame.DataFrame'>\n",
            "RangeIndex: 768 entries, 0 to 767\n",
            "Data columns (total 9 columns):\n",
            " #   Column             Non-Null Count  Dtype  \n",
            "---  ------             --------------  -----  \n",
            " 0   gravidez           768 non-null    int64  \n",
            " 1   glicose            768 non-null    int64  \n",
            " 2   pressao_arterial   768 non-null    int64  \n",
            " 3   espessura_da_pele  768 non-null    int64  \n",
            " 4   insulina           768 non-null    int64  \n",
            " 5   imc                768 non-null    float64\n",
            " 6   dpf                768 non-null    float64\n",
            " 7   idade              768 non-null    int64  \n",
            " 8   resultado          768 non-null    int64  \n",
            "dtypes: float64(2), int64(7)\n",
            "memory usage: 54.1 KB\n"
          ]
        }
      ]
    },
    {
      "cell_type": "code",
      "metadata": {
        "colab": {
          "base_uri": "https://localhost:8080/"
        },
        "id": "cKS6CTzXhcno",
        "outputId": "a94d79ff-d918-447b-c8fb-18cab607d306"
      },
      "source": [
        "dados.isnull().sum()"
      ],
      "execution_count": 7,
      "outputs": [
        {
          "output_type": "execute_result",
          "data": {
            "text/plain": [
              "gravidez             0\n",
              "glicose              0\n",
              "pressao_arterial     0\n",
              "espessura_da_pele    0\n",
              "insulina             0\n",
              "imc                  0\n",
              "dpf                  0\n",
              "idade                0\n",
              "resultado            0\n",
              "dtype: int64"
            ]
          },
          "metadata": {},
          "execution_count": 7
        }
      ]
    },
    {
      "cell_type": "code",
      "metadata": {
        "colab": {
          "base_uri": "https://localhost:8080/",
          "height": 297
        },
        "id": "lcro_BYxhqY1",
        "outputId": "7515ae7a-445c-4a29-e3ad-e2a56d0a43e8"
      },
      "source": [
        "dados.describe()"
      ],
      "execution_count": 8,
      "outputs": [
        {
          "output_type": "execute_result",
          "data": {
            "text/html": [
              "<div>\n",
              "<style scoped>\n",
              "    .dataframe tbody tr th:only-of-type {\n",
              "        vertical-align: middle;\n",
              "    }\n",
              "\n",
              "    .dataframe tbody tr th {\n",
              "        vertical-align: top;\n",
              "    }\n",
              "\n",
              "    .dataframe thead th {\n",
              "        text-align: right;\n",
              "    }\n",
              "</style>\n",
              "<table border=\"1\" class=\"dataframe\">\n",
              "  <thead>\n",
              "    <tr style=\"text-align: right;\">\n",
              "      <th></th>\n",
              "      <th>gravidez</th>\n",
              "      <th>glicose</th>\n",
              "      <th>pressao_arterial</th>\n",
              "      <th>espessura_da_pele</th>\n",
              "      <th>insulina</th>\n",
              "      <th>imc</th>\n",
              "      <th>dpf</th>\n",
              "      <th>idade</th>\n",
              "      <th>resultado</th>\n",
              "    </tr>\n",
              "  </thead>\n",
              "  <tbody>\n",
              "    <tr>\n",
              "      <th>count</th>\n",
              "      <td>768.000000</td>\n",
              "      <td>768.000000</td>\n",
              "      <td>768.000000</td>\n",
              "      <td>768.000000</td>\n",
              "      <td>768.000000</td>\n",
              "      <td>768.000000</td>\n",
              "      <td>768.000000</td>\n",
              "      <td>768.000000</td>\n",
              "      <td>768.000000</td>\n",
              "    </tr>\n",
              "    <tr>\n",
              "      <th>mean</th>\n",
              "      <td>3.845052</td>\n",
              "      <td>120.894531</td>\n",
              "      <td>69.105469</td>\n",
              "      <td>20.536458</td>\n",
              "      <td>79.799479</td>\n",
              "      <td>31.992578</td>\n",
              "      <td>0.471876</td>\n",
              "      <td>33.240885</td>\n",
              "      <td>0.348958</td>\n",
              "    </tr>\n",
              "    <tr>\n",
              "      <th>std</th>\n",
              "      <td>3.369578</td>\n",
              "      <td>31.972618</td>\n",
              "      <td>19.355807</td>\n",
              "      <td>15.952218</td>\n",
              "      <td>115.244002</td>\n",
              "      <td>7.884160</td>\n",
              "      <td>0.331329</td>\n",
              "      <td>11.760232</td>\n",
              "      <td>0.476951</td>\n",
              "    </tr>\n",
              "    <tr>\n",
              "      <th>min</th>\n",
              "      <td>0.000000</td>\n",
              "      <td>0.000000</td>\n",
              "      <td>0.000000</td>\n",
              "      <td>0.000000</td>\n",
              "      <td>0.000000</td>\n",
              "      <td>0.000000</td>\n",
              "      <td>0.078000</td>\n",
              "      <td>21.000000</td>\n",
              "      <td>0.000000</td>\n",
              "    </tr>\n",
              "    <tr>\n",
              "      <th>25%</th>\n",
              "      <td>1.000000</td>\n",
              "      <td>99.000000</td>\n",
              "      <td>62.000000</td>\n",
              "      <td>0.000000</td>\n",
              "      <td>0.000000</td>\n",
              "      <td>27.300000</td>\n",
              "      <td>0.243750</td>\n",
              "      <td>24.000000</td>\n",
              "      <td>0.000000</td>\n",
              "    </tr>\n",
              "    <tr>\n",
              "      <th>50%</th>\n",
              "      <td>3.000000</td>\n",
              "      <td>117.000000</td>\n",
              "      <td>72.000000</td>\n",
              "      <td>23.000000</td>\n",
              "      <td>30.500000</td>\n",
              "      <td>32.000000</td>\n",
              "      <td>0.372500</td>\n",
              "      <td>29.000000</td>\n",
              "      <td>0.000000</td>\n",
              "    </tr>\n",
              "    <tr>\n",
              "      <th>75%</th>\n",
              "      <td>6.000000</td>\n",
              "      <td>140.250000</td>\n",
              "      <td>80.000000</td>\n",
              "      <td>32.000000</td>\n",
              "      <td>127.250000</td>\n",
              "      <td>36.600000</td>\n",
              "      <td>0.626250</td>\n",
              "      <td>41.000000</td>\n",
              "      <td>1.000000</td>\n",
              "    </tr>\n",
              "    <tr>\n",
              "      <th>max</th>\n",
              "      <td>17.000000</td>\n",
              "      <td>199.000000</td>\n",
              "      <td>122.000000</td>\n",
              "      <td>99.000000</td>\n",
              "      <td>846.000000</td>\n",
              "      <td>67.100000</td>\n",
              "      <td>2.420000</td>\n",
              "      <td>81.000000</td>\n",
              "      <td>1.000000</td>\n",
              "    </tr>\n",
              "  </tbody>\n",
              "</table>\n",
              "</div>"
            ],
            "text/plain": [
              "         gravidez     glicose  ...       idade   resultado\n",
              "count  768.000000  768.000000  ...  768.000000  768.000000\n",
              "mean     3.845052  120.894531  ...   33.240885    0.348958\n",
              "std      3.369578   31.972618  ...   11.760232    0.476951\n",
              "min      0.000000    0.000000  ...   21.000000    0.000000\n",
              "25%      1.000000   99.000000  ...   24.000000    0.000000\n",
              "50%      3.000000  117.000000  ...   29.000000    0.000000\n",
              "75%      6.000000  140.250000  ...   41.000000    1.000000\n",
              "max     17.000000  199.000000  ...   81.000000    1.000000\n",
              "\n",
              "[8 rows x 9 columns]"
            ]
          },
          "metadata": {},
          "execution_count": 8
        }
      ]
    },
    {
      "cell_type": "code",
      "metadata": {
        "colab": {
          "base_uri": "https://localhost:8080/"
        },
        "id": "7WJIesFBh2LU",
        "outputId": "7e14c1ac-1dbc-4ce0-db88-c44f12ff94df"
      },
      "source": [
        "# Verificando a quantidade valores zerados em colunas específicas\n",
        "valores_zerados = dados[[\"glicose\",\"pressao_arterial\",\"espessura_da_pele\",\"insulina\",\"imc\"]] == 0\n",
        "print(valores_zerados.sum())"
      ],
      "execution_count": 9,
      "outputs": [
        {
          "output_type": "stream",
          "name": "stdout",
          "text": [
            "glicose                5\n",
            "pressao_arterial      35\n",
            "espessura_da_pele    227\n",
            "insulina             374\n",
            "imc                   11\n",
            "dtype: int64\n"
          ]
        }
      ]
    },
    {
      "cell_type": "code",
      "metadata": {
        "id": "1fVP9PNmilJ8"
      },
      "source": [
        "#Substituir valores zerados por valor indefinido \n",
        "dados[[\"pressao_arterial\",\"glicose\",\"imc\"]] = dados[[\"pressao_arterial\",\"glicose\",\"imc\"]].replace(0, np.NaN)\n",
        "#Substituir valores indefinidos pelo valor médio\n",
        "dados.fillna(dados.mean(), inplace=True)"
      ],
      "execution_count": 10,
      "outputs": []
    },
    {
      "cell_type": "code",
      "metadata": {
        "id": "IKyiMLPIjL9D"
      },
      "source": [
        "dados[[\"espessura_da_pele\",\"insulina\"]] = dados[[\"espessura_da_pele\",\"insulina\"]].replace(0, np.NaN)"
      ],
      "execution_count": 11,
      "outputs": []
    },
    {
      "cell_type": "code",
      "metadata": {
        "colab": {
          "base_uri": "https://localhost:8080/",
          "height": 297
        },
        "id": "g8HHHK8poLPB",
        "outputId": "00095dc3-38de-4621-c7df-166aa4092f6a"
      },
      "source": [
        "dados.describe()"
      ],
      "execution_count": 12,
      "outputs": [
        {
          "output_type": "execute_result",
          "data": {
            "text/html": [
              "<div>\n",
              "<style scoped>\n",
              "    .dataframe tbody tr th:only-of-type {\n",
              "        vertical-align: middle;\n",
              "    }\n",
              "\n",
              "    .dataframe tbody tr th {\n",
              "        vertical-align: top;\n",
              "    }\n",
              "\n",
              "    .dataframe thead th {\n",
              "        text-align: right;\n",
              "    }\n",
              "</style>\n",
              "<table border=\"1\" class=\"dataframe\">\n",
              "  <thead>\n",
              "    <tr style=\"text-align: right;\">\n",
              "      <th></th>\n",
              "      <th>gravidez</th>\n",
              "      <th>glicose</th>\n",
              "      <th>pressao_arterial</th>\n",
              "      <th>espessura_da_pele</th>\n",
              "      <th>insulina</th>\n",
              "      <th>imc</th>\n",
              "      <th>dpf</th>\n",
              "      <th>idade</th>\n",
              "      <th>resultado</th>\n",
              "    </tr>\n",
              "  </thead>\n",
              "  <tbody>\n",
              "    <tr>\n",
              "      <th>count</th>\n",
              "      <td>768.000000</td>\n",
              "      <td>768.000000</td>\n",
              "      <td>768.000000</td>\n",
              "      <td>541.000000</td>\n",
              "      <td>394.000000</td>\n",
              "      <td>768.000000</td>\n",
              "      <td>768.000000</td>\n",
              "      <td>768.000000</td>\n",
              "      <td>768.000000</td>\n",
              "    </tr>\n",
              "    <tr>\n",
              "      <th>mean</th>\n",
              "      <td>3.845052</td>\n",
              "      <td>121.686763</td>\n",
              "      <td>72.405184</td>\n",
              "      <td>29.153420</td>\n",
              "      <td>155.548223</td>\n",
              "      <td>32.457464</td>\n",
              "      <td>0.471876</td>\n",
              "      <td>33.240885</td>\n",
              "      <td>0.348958</td>\n",
              "    </tr>\n",
              "    <tr>\n",
              "      <th>std</th>\n",
              "      <td>3.369578</td>\n",
              "      <td>30.435949</td>\n",
              "      <td>12.096346</td>\n",
              "      <td>10.476982</td>\n",
              "      <td>118.775855</td>\n",
              "      <td>6.875151</td>\n",
              "      <td>0.331329</td>\n",
              "      <td>11.760232</td>\n",
              "      <td>0.476951</td>\n",
              "    </tr>\n",
              "    <tr>\n",
              "      <th>min</th>\n",
              "      <td>0.000000</td>\n",
              "      <td>44.000000</td>\n",
              "      <td>24.000000</td>\n",
              "      <td>7.000000</td>\n",
              "      <td>14.000000</td>\n",
              "      <td>18.200000</td>\n",
              "      <td>0.078000</td>\n",
              "      <td>21.000000</td>\n",
              "      <td>0.000000</td>\n",
              "    </tr>\n",
              "    <tr>\n",
              "      <th>25%</th>\n",
              "      <td>1.000000</td>\n",
              "      <td>99.750000</td>\n",
              "      <td>64.000000</td>\n",
              "      <td>22.000000</td>\n",
              "      <td>76.250000</td>\n",
              "      <td>27.500000</td>\n",
              "      <td>0.243750</td>\n",
              "      <td>24.000000</td>\n",
              "      <td>0.000000</td>\n",
              "    </tr>\n",
              "    <tr>\n",
              "      <th>50%</th>\n",
              "      <td>3.000000</td>\n",
              "      <td>117.000000</td>\n",
              "      <td>72.202592</td>\n",
              "      <td>29.000000</td>\n",
              "      <td>125.000000</td>\n",
              "      <td>32.400000</td>\n",
              "      <td>0.372500</td>\n",
              "      <td>29.000000</td>\n",
              "      <td>0.000000</td>\n",
              "    </tr>\n",
              "    <tr>\n",
              "      <th>75%</th>\n",
              "      <td>6.000000</td>\n",
              "      <td>140.250000</td>\n",
              "      <td>80.000000</td>\n",
              "      <td>36.000000</td>\n",
              "      <td>190.000000</td>\n",
              "      <td>36.600000</td>\n",
              "      <td>0.626250</td>\n",
              "      <td>41.000000</td>\n",
              "      <td>1.000000</td>\n",
              "    </tr>\n",
              "    <tr>\n",
              "      <th>max</th>\n",
              "      <td>17.000000</td>\n",
              "      <td>199.000000</td>\n",
              "      <td>122.000000</td>\n",
              "      <td>99.000000</td>\n",
              "      <td>846.000000</td>\n",
              "      <td>67.100000</td>\n",
              "      <td>2.420000</td>\n",
              "      <td>81.000000</td>\n",
              "      <td>1.000000</td>\n",
              "    </tr>\n",
              "  </tbody>\n",
              "</table>\n",
              "</div>"
            ],
            "text/plain": [
              "         gravidez     glicose  ...       idade   resultado\n",
              "count  768.000000  768.000000  ...  768.000000  768.000000\n",
              "mean     3.845052  121.686763  ...   33.240885    0.348958\n",
              "std      3.369578   30.435949  ...   11.760232    0.476951\n",
              "min      0.000000   44.000000  ...   21.000000    0.000000\n",
              "25%      1.000000   99.750000  ...   24.000000    0.000000\n",
              "50%      3.000000  117.000000  ...   29.000000    0.000000\n",
              "75%      6.000000  140.250000  ...   41.000000    1.000000\n",
              "max     17.000000  199.000000  ...   81.000000    1.000000\n",
              "\n",
              "[8 rows x 9 columns]"
            ]
          },
          "metadata": {},
          "execution_count": 12
        }
      ]
    },
    {
      "cell_type": "code",
      "metadata": {
        "colab": {
          "base_uri": "https://localhost:8080/",
          "height": 204
        },
        "id": "6hR3mgBYggmE",
        "outputId": "10f87452-0480-42ce-f055-9fe323587ab3"
      },
      "source": [
        "#Swap da coluna de resultado para facilitar na leitura dos gráficos\n",
        "troca = {\n",
        "    0 : 'Negativo',\n",
        "    1 : 'Positivo'\n",
        "}\n",
        "dados['resultado'] = dados.resultado.map(troca)\n",
        "dados.head()"
      ],
      "execution_count": 13,
      "outputs": [
        {
          "output_type": "execute_result",
          "data": {
            "text/html": [
              "<div>\n",
              "<style scoped>\n",
              "    .dataframe tbody tr th:only-of-type {\n",
              "        vertical-align: middle;\n",
              "    }\n",
              "\n",
              "    .dataframe tbody tr th {\n",
              "        vertical-align: top;\n",
              "    }\n",
              "\n",
              "    .dataframe thead th {\n",
              "        text-align: right;\n",
              "    }\n",
              "</style>\n",
              "<table border=\"1\" class=\"dataframe\">\n",
              "  <thead>\n",
              "    <tr style=\"text-align: right;\">\n",
              "      <th></th>\n",
              "      <th>gravidez</th>\n",
              "      <th>glicose</th>\n",
              "      <th>pressao_arterial</th>\n",
              "      <th>espessura_da_pele</th>\n",
              "      <th>insulina</th>\n",
              "      <th>imc</th>\n",
              "      <th>dpf</th>\n",
              "      <th>idade</th>\n",
              "      <th>resultado</th>\n",
              "    </tr>\n",
              "  </thead>\n",
              "  <tbody>\n",
              "    <tr>\n",
              "      <th>0</th>\n",
              "      <td>6</td>\n",
              "      <td>148.0</td>\n",
              "      <td>72.0</td>\n",
              "      <td>35.0</td>\n",
              "      <td>NaN</td>\n",
              "      <td>33.6</td>\n",
              "      <td>0.627</td>\n",
              "      <td>50</td>\n",
              "      <td>Positivo</td>\n",
              "    </tr>\n",
              "    <tr>\n",
              "      <th>1</th>\n",
              "      <td>1</td>\n",
              "      <td>85.0</td>\n",
              "      <td>66.0</td>\n",
              "      <td>29.0</td>\n",
              "      <td>NaN</td>\n",
              "      <td>26.6</td>\n",
              "      <td>0.351</td>\n",
              "      <td>31</td>\n",
              "      <td>Negativo</td>\n",
              "    </tr>\n",
              "    <tr>\n",
              "      <th>2</th>\n",
              "      <td>8</td>\n",
              "      <td>183.0</td>\n",
              "      <td>64.0</td>\n",
              "      <td>NaN</td>\n",
              "      <td>NaN</td>\n",
              "      <td>23.3</td>\n",
              "      <td>0.672</td>\n",
              "      <td>32</td>\n",
              "      <td>Positivo</td>\n",
              "    </tr>\n",
              "    <tr>\n",
              "      <th>3</th>\n",
              "      <td>1</td>\n",
              "      <td>89.0</td>\n",
              "      <td>66.0</td>\n",
              "      <td>23.0</td>\n",
              "      <td>94.0</td>\n",
              "      <td>28.1</td>\n",
              "      <td>0.167</td>\n",
              "      <td>21</td>\n",
              "      <td>Negativo</td>\n",
              "    </tr>\n",
              "    <tr>\n",
              "      <th>4</th>\n",
              "      <td>0</td>\n",
              "      <td>137.0</td>\n",
              "      <td>40.0</td>\n",
              "      <td>35.0</td>\n",
              "      <td>168.0</td>\n",
              "      <td>43.1</td>\n",
              "      <td>2.288</td>\n",
              "      <td>33</td>\n",
              "      <td>Positivo</td>\n",
              "    </tr>\n",
              "  </tbody>\n",
              "</table>\n",
              "</div>"
            ],
            "text/plain": [
              "   gravidez  glicose  pressao_arterial  ...    dpf  idade  resultado\n",
              "0         6    148.0              72.0  ...  0.627     50   Positivo\n",
              "1         1     85.0              66.0  ...  0.351     31   Negativo\n",
              "2         8    183.0              64.0  ...  0.672     32   Positivo\n",
              "3         1     89.0              66.0  ...  0.167     21   Negativo\n",
              "4         0    137.0              40.0  ...  2.288     33   Positivo\n",
              "\n",
              "[5 rows x 9 columns]"
            ]
          },
          "metadata": {},
          "execution_count": 13
        }
      ]
    },
    {
      "cell_type": "code",
      "metadata": {
        "colab": {
          "base_uri": "https://localhost:8080/",
          "height": 298
        },
        "id": "nBVkKSVhfwuP",
        "outputId": "6d5b1271-533c-4c46-9fad-4e75604d9385"
      },
      "source": [
        "sns.scatterplot(x=\"pressao_arterial\", y=\"insulina\", hue=\"resultado\", data=dados)"
      ],
      "execution_count": 14,
      "outputs": [
        {
          "output_type": "execute_result",
          "data": {
            "text/plain": [
              "<matplotlib.axes._subplots.AxesSubplot at 0x7fcbfb8c8910>"
            ]
          },
          "metadata": {},
          "execution_count": 14
        },
        {
          "output_type": "display_data",
          "data": {
            "image/png": "[encoded data removed]",
            "text/plain": [
              "<Figure size 432x288 with 1 Axes>"
            ]
          },
          "metadata": {
            "needs_background": "light"
          }
        }
      ]
    },
    {
      "cell_type": "code",
      "metadata": {
        "colab": {
          "base_uri": "https://localhost:8080/",
          "height": 879
        },
        "id": "KUQKoJNJjcmD",
        "outputId": "45293d9b-89ab-486e-f398-aa58f693b386"
      },
      "source": [
        "fig = dados.hist(figsize = (20,15))"
      ],
      "execution_count": 15,
      "outputs": [
        {
          "output_type": "display_data",
          "data": {
            "image/png": "[encoded data removed]",
            "text/plain": [
              "<Figure size 1440x1080 with 9 Axes>"
            ]
          },
          "metadata": {
            "needs_background": "light"
          }
        }
      ]
    },
    {
      "cell_type": "code",
      "metadata": {
        "colab": {
          "base_uri": "https://localhost:8080/",
          "height": 204
        },
        "id": "v_O7TrNbkX7z",
        "outputId": "918cf233-27ea-4f1b-a8c0-7e235220d15d"
      },
      "source": [
        "#Swap da coluna de resultado para facilitar na leitura dos gráficos\n",
        "troca = {\n",
        "    'Negativo' : 0,\n",
        "    'Positivo' : 1\n",
        "}\n",
        "\n",
        "dados['resultado'] = dados.resultado.map(troca)\n",
        "dados.head()"
      ],
      "execution_count": 16,
      "outputs": [
        {
          "output_type": "execute_result",
          "data": {
            "text/html": [
              "<div>\n",
              "<style scoped>\n",
              "    .dataframe tbody tr th:only-of-type {\n",
              "        vertical-align: middle;\n",
              "    }\n",
              "\n",
              "    .dataframe tbody tr th {\n",
              "        vertical-align: top;\n",
              "    }\n",
              "\n",
              "    .dataframe thead th {\n",
              "        text-align: right;\n",
              "    }\n",
              "</style>\n",
              "<table border=\"1\" class=\"dataframe\">\n",
              "  <thead>\n",
              "    <tr style=\"text-align: right;\">\n",
              "      <th></th>\n",
              "      <th>gravidez</th>\n",
              "      <th>glicose</th>\n",
              "      <th>pressao_arterial</th>\n",
              "      <th>espessura_da_pele</th>\n",
              "      <th>insulina</th>\n",
              "      <th>imc</th>\n",
              "      <th>dpf</th>\n",
              "      <th>idade</th>\n",
              "      <th>resultado</th>\n",
              "    </tr>\n",
              "  </thead>\n",
              "  <tbody>\n",
              "    <tr>\n",
              "      <th>0</th>\n",
              "      <td>6</td>\n",
              "      <td>148.0</td>\n",
              "      <td>72.0</td>\n",
              "      <td>35.0</td>\n",
              "      <td>NaN</td>\n",
              "      <td>33.6</td>\n",
              "      <td>0.627</td>\n",
              "      <td>50</td>\n",
              "      <td>1</td>\n",
              "    </tr>\n",
              "    <tr>\n",
              "      <th>1</th>\n",
              "      <td>1</td>\n",
              "      <td>85.0</td>\n",
              "      <td>66.0</td>\n",
              "      <td>29.0</td>\n",
              "      <td>NaN</td>\n",
              "      <td>26.6</td>\n",
              "      <td>0.351</td>\n",
              "      <td>31</td>\n",
              "      <td>0</td>\n",
              "    </tr>\n",
              "    <tr>\n",
              "      <th>2</th>\n",
              "      <td>8</td>\n",
              "      <td>183.0</td>\n",
              "      <td>64.0</td>\n",
              "      <td>NaN</td>\n",
              "      <td>NaN</td>\n",
              "      <td>23.3</td>\n",
              "      <td>0.672</td>\n",
              "      <td>32</td>\n",
              "      <td>1</td>\n",
              "    </tr>\n",
              "    <tr>\n",
              "      <th>3</th>\n",
              "      <td>1</td>\n",
              "      <td>89.0</td>\n",
              "      <td>66.0</td>\n",
              "      <td>23.0</td>\n",
              "      <td>94.0</td>\n",
              "      <td>28.1</td>\n",
              "      <td>0.167</td>\n",
              "      <td>21</td>\n",
              "      <td>0</td>\n",
              "    </tr>\n",
              "    <tr>\n",
              "      <th>4</th>\n",
              "      <td>0</td>\n",
              "      <td>137.0</td>\n",
              "      <td>40.0</td>\n",
              "      <td>35.0</td>\n",
              "      <td>168.0</td>\n",
              "      <td>43.1</td>\n",
              "      <td>2.288</td>\n",
              "      <td>33</td>\n",
              "      <td>1</td>\n",
              "    </tr>\n",
              "  </tbody>\n",
              "</table>\n",
              "</div>"
            ],
            "text/plain": [
              "   gravidez  glicose  pressao_arterial  ...    dpf  idade  resultado\n",
              "0         6    148.0              72.0  ...  0.627     50          1\n",
              "1         1     85.0              66.0  ...  0.351     31          0\n",
              "2         8    183.0              64.0  ...  0.672     32          1\n",
              "3         1     89.0              66.0  ...  0.167     21          0\n",
              "4         0    137.0              40.0  ...  2.288     33          1\n",
              "\n",
              "[5 rows x 9 columns]"
            ]
          },
          "metadata": {},
          "execution_count": 16
        }
      ]
    },
    {
      "cell_type": "code",
      "metadata": {
        "id": "VJmaKI2PkUo6"
      },
      "source": [
        "x = dados[['gravidez', 'glicose', 'pressao_arterial', 'imc', 'dpf', 'idade']]\n",
        "y = dados['resultado']"
      ],
      "execution_count": 17,
      "outputs": []
    },
    {
      "cell_type": "code",
      "metadata": {
        "id": "qfOz3pNEm_IC"
      },
      "source": [
        "#np.random.seed já deixa o random states definido por padrão, assim não precisa definir o random stats em bibliotecadas que já usam o numpy\n",
        "np.random.seed(42)"
      ],
      "execution_count": 18,
      "outputs": []
    },
    {
      "cell_type": "markdown",
      "metadata": {
        "id": "NKqmJKkJtPXF"
      },
      "source": [
        "#Dividir dados de treino e teste"
      ]
    },
    {
      "cell_type": "code",
      "metadata": {
        "id": "nUQTssgtlKMr"
      },
      "source": [
        "from sklearn.model_selection import train_test_split\n",
        "raw_treino_x, raw_teste_x, treino_y, teste_y = train_test_split(x, y, test_size = 0.25,\n",
        "                                                         stratify = y)"
      ],
      "execution_count": 19,
      "outputs": []
    },
    {
      "cell_type": "code",
      "metadata": {
        "colab": {
          "base_uri": "https://localhost:8080/"
        },
        "id": "sPeD1dv_lTEa",
        "outputId": "b4e897b4-3e3c-4de6-fff0-be01589a05c9"
      },
      "source": [
        "print(\"Treinaremos com %d elementos e testaremos com %d elementos\" % (len(raw_treino_x), len(raw_teste_x)))"
      ],
      "execution_count": 20,
      "outputs": [
        {
          "output_type": "stream",
          "name": "stdout",
          "text": [
            "Treinaremos com 576 elementos e testaremos com 192 elementos\n"
          ]
        }
      ]
    },
    {
      "cell_type": "code",
      "metadata": {
        "id": "BfvJFsgKpluZ"
      },
      "source": [
        "from sklearn.preprocessing import StandardScaler\n",
        "scaler = StandardScaler()\n",
        "scaler.fit(raw_treino_x)\n",
        "treino_x = scaler.transform(raw_treino_x)\n",
        "teste_x = scaler.transform(raw_teste_x)"
      ],
      "execution_count": 21,
      "outputs": []
    },
    {
      "cell_type": "markdown",
      "metadata": {
        "id": "W6d1MH-rlcZU"
      },
      "source": [
        "#BaseLine"
      ]
    },
    {
      "cell_type": "code",
      "metadata": {
        "id": "EdqXsyIts1c4"
      },
      "source": [
        "from sklearn.dummy import DummyClassifier"
      ],
      "execution_count": 22,
      "outputs": []
    },
    {
      "cell_type": "code",
      "metadata": {
        "colab": {
          "base_uri": "https://localhost:8080/"
        },
        "id": "3C_qtRffs17H",
        "outputId": "86c5010a-0021-4c3c-cd9a-8148bfb63f8c"
      },
      "source": [
        "dummy_stratified = DummyClassifier()\n",
        "dummy_stratified.fit(treino_x, treino_y)\n",
        "acuracia = dummy_stratified.score(teste_x, teste_y) * 100\n",
        "print(\"A acurácia do dummy stratified foi %.2f%%\" % acuracia)"
      ],
      "execution_count": 23,
      "outputs": [
        {
          "output_type": "stream",
          "name": "stdout",
          "text": [
            "A acurácia do dummy stratified foi 58.33%\n"
          ]
        },
        {
          "output_type": "stream",
          "name": "stderr",
          "text": [
            "/usr/local/lib/python3.7/dist-packages/sklearn/dummy.py:132: FutureWarning: The default value of strategy will change from stratified to prior in 0.24.\n",
            "  \"stratified to prior in 0.24.\", FutureWarning)\n"
          ]
        }
      ]
    },
    {
      "cell_type": "code",
      "metadata": {
        "colab": {
          "base_uri": "https://localhost:8080/"
        },
        "id": "xak7qxv9uHY4",
        "outputId": "a05d3213-7832-4808-bd6d-11f2e17d1bbf"
      },
      "source": [
        "dummy_frequent = DummyClassifier(strategy='most_frequent')\n",
        "dummy_frequent.fit(treino_x, treino_y)\n",
        "acuracia = dummy_frequent.score(teste_x, teste_y) * 100\n",
        "print(\"A acurácia do dummy stratified foi %.2f%%\" % acuracia)"
      ],
      "execution_count": 24,
      "outputs": [
        {
          "output_type": "stream",
          "name": "stdout",
          "text": [
            "A acurácia do dummy stratified foi 65.10%\n"
          ]
        }
      ]
    },
    {
      "cell_type": "markdown",
      "metadata": {
        "id": "oMbn3QBRkEiz"
      },
      "source": [
        "#Linear SVC"
      ]
    },
    {
      "cell_type": "code",
      "metadata": {
        "id": "WovALWUJkRjq"
      },
      "source": [
        "from sklearn.svm import LinearSVC\n",
        "from sklearn.metrics import accuracy_score"
      ],
      "execution_count": 25,
      "outputs": []
    },
    {
      "cell_type": "code",
      "metadata": {
        "colab": {
          "base_uri": "https://localhost:8080/"
        },
        "id": "4gwNdI2PlV89",
        "outputId": "22f9e492-7aba-43f7-c267-99e5d93228f2"
      },
      "source": [
        "modelo = LinearSVC()\n",
        "modelo.fit(treino_x, treino_y)\n",
        "previsoes = modelo.predict(teste_x)"
      ],
      "execution_count": 26,
      "outputs": [
        {
          "output_type": "stream",
          "name": "stderr",
          "text": [
            "/usr/local/lib/python3.7/dist-packages/sklearn/svm/_base.py:947: ConvergenceWarning: Liblinear failed to converge, increase the number of iterations.\n",
            "  \"the number of iterations.\", ConvergenceWarning)\n"
          ]
        }
      ]
    },
    {
      "cell_type": "code",
      "metadata": {
        "id": "2nZHcCSalYBi"
      },
      "source": [
        "acuracia = accuracy_score(teste_y, previsoes) * 100\n",
        "F1 =  metrics.f1_score(teste_y, previsoes) * 100\n",
        "AUCROC = metrics.roc_auc_score(teste_y, previsoes) * 100"
      ],
      "execution_count": 27,
      "outputs": []
    },
    {
      "cell_type": "code",
      "metadata": {
        "colab": {
          "base_uri": "https://localhost:8080/"
        },
        "id": "ZWUa_ByfqDKe",
        "outputId": "fdadeb05-a249-4d36-cd8b-2061b8375bdb"
      },
      "source": [
        "print('Matriz de Confusão\\n', metrics.confusion_matrix(teste_y, previsoes)) \n",
        "print(\"\\nAcurácia \\n %.2f%%\" % acuracia)\n",
        "print(\"\\nF1 \\n %.2f%%\" % F1)\n",
        "print(\"\\nAUCROC \\n %.2f%%\" % AUCROC)"
      ],
      "execution_count": 28,
      "outputs": [
        {
          "output_type": "stream",
          "name": "stdout",
          "text": [
            "Matriz de Confusão\n",
            " [[104  21]\n",
            " [ 33  34]]\n",
            "\n",
            "Acurácia \n",
            " 71.88%\n",
            "\n",
            "F1 \n",
            " 55.74%\n",
            "\n",
            "AUCROC \n",
            " 66.97%\n"
          ]
        }
      ]
    },
    {
      "cell_type": "markdown",
      "metadata": {
        "id": "q8uhCHMlpyw4"
      },
      "source": [
        "#SVC"
      ]
    },
    {
      "cell_type": "code",
      "metadata": {
        "id": "oaNWa9blpz34"
      },
      "source": [
        "from sklearn.svm import SVC\n",
        "modelo = SVC(C = 0.1, kernel='rbf', gamma = 0.0001)\n",
        "modelo.fit(treino_x, treino_y)\n",
        "previsoes = modelo.predict(teste_x)"
      ],
      "execution_count": 29,
      "outputs": []
    },
    {
      "cell_type": "code",
      "metadata": {
        "id": "Jds3FPK1p-Ro"
      },
      "source": [
        "acuracia = accuracy_score(teste_y, previsoes) * 100\n",
        "F1 =  metrics.f1_score(teste_y, previsoes) * 100\n",
        "AUCROC = metrics.roc_auc_score(teste_y, previsoes) * 100"
      ],
      "execution_count": 30,
      "outputs": []
    },
    {
      "cell_type": "code",
      "metadata": {
        "colab": {
          "base_uri": "https://localhost:8080/"
        },
        "id": "kHWxcOI5pH1M",
        "outputId": "d25644a9-4d37-4de1-ed98-c2475a5b67a1"
      },
      "source": [
        "print('Matriz de Confusão\\n', metrics.confusion_matrix(teste_y, previsoes)) \n",
        "print(\"\\nAcurácia \\n %.2f%%\" % acuracia)\n",
        "print(\"\\nF1 \\n %.2f%%\" % F1)\n",
        "print(\"\\nAUCROC \\n %.2f%%\" % AUCROC)"
      ],
      "execution_count": 31,
      "outputs": [
        {
          "output_type": "stream",
          "name": "stdout",
          "text": [
            "Matriz de Confusão\n",
            " [[125   0]\n",
            " [ 67   0]]\n",
            "\n",
            "Acurácia \n",
            " 65.10%\n",
            "\n",
            "F1 \n",
            " 0.00%\n",
            "\n",
            "AUCROC \n",
            " 50.00%\n"
          ]
        }
      ]
    },
    {
      "cell_type": "markdown",
      "metadata": {
        "id": "AJDuqu9Nsk9o"
      },
      "source": [
        "#Random Forest"
      ]
    },
    {
      "cell_type": "code",
      "metadata": {
        "id": "W52DAATEufI-"
      },
      "source": [
        "from sklearn.tree import DecisionTreeClassifier"
      ],
      "execution_count": 32,
      "outputs": []
    },
    {
      "cell_type": "code",
      "metadata": {
        "id": "L3KhGH6YuhuM"
      },
      "source": [
        "modelo = DecisionTreeClassifier(max_depth=3)\n",
        "modelo.fit(raw_treino_x, treino_y)\n",
        "previsoes = modelo.predict(raw_teste_x)"
      ],
      "execution_count": 33,
      "outputs": []
    },
    {
      "cell_type": "code",
      "metadata": {
        "colab": {
          "base_uri": "https://localhost:8080/"
        },
        "id": "EmeuE8JkunjT",
        "outputId": "8cd8dc9f-2fd9-4e28-82df-ca04754b3000"
      },
      "source": [
        "acuracia = accuracy_score(teste_y, previsoes) * 100\n",
        "print(\"A acurácia foi %.2f%%\" % acuracia)"
      ],
      "execution_count": 34,
      "outputs": [
        {
          "output_type": "stream",
          "name": "stdout",
          "text": [
            "A acurácia foi 71.35%\n"
          ]
        }
      ]
    },
    {
      "cell_type": "code",
      "metadata": {
        "id": "LqlUltxnuqVb"
      },
      "source": [
        "from sklearn.tree import export_graphviz\n",
        "import graphviz"
      ],
      "execution_count": 35,
      "outputs": []
    },
    {
      "cell_type": "code",
      "metadata": {
        "colab": {
          "base_uri": "https://localhost:8080/",
          "height": 618
        },
        "id": "6jEU5kUNush8",
        "outputId": "e8aa5aac-3a6f-47e1-f424-ece0960660f3"
      },
      "source": [
        "features = x.columns\n",
        "dot_data = export_graphviz(modelo, out_file=None,\n",
        "                           filled = True, rounded = True,\n",
        "                           feature_names = features,\n",
        "                          class_names = [\"não\", \"sim\"])\n",
        "grafico = graphviz.Source(dot_data)\n",
        "grafico"
      ],
      "execution_count": 36,
      "outputs": [
        {
          "output_type": "execute_result",
          "data": {
            "text/plain": [
              "<graphviz.files.Source at 0x7fcbfa62a210>"
            ],
            "image/svg+xml": "<?xml version=\"1.0\" encoding=\"UTF-8\" standalone=\"no\"?>\n<!DOCTYPE svg PUBLIC \"-//W3C//DTD SVG 1.1//EN\"\n \"http://www.w3.org/Graphics/SVG/1.1/DTD/svg11.dtd\">\n<!-- Generated by graphviz version 2.40.1 (20161225.0304)\n -->\n<!-- Title: Tree Pages: 1 -->\n<svg width=\"1021pt\" height=\"433pt\"\n viewBox=\"0.00 0.00 1021.00 433.00\" xmlns=\"http://www.w3.org/2000/svg\" xmlns:xlink=\"http://www.w3.org/1999/xlink\">\n<g id=\"graph0\" class=\"graph\" transform=\"scale(1 1) rotate(0) translate(4 429)\">\n<title>Tree</title>\n<polygon fill=\"#ffffff\" stroke=\"transparent\" points=\"-4,4 -4,-429 1017,-429 1017,4 -4,4\"/>\n<!-- 0 -->\n<g id=\"node1\" class=\"node\">\n<title>0</title>\n<path fill=\"#f3c5a3\" stroke=\"#000000\" d=\"M555,-425C555,-425 447,-425 447,-425 441,-425 435,-419 435,-413 435,-413 435,-354 435,-354 435,-348 441,-342 447,-342 447,-342 555,-342 555,-342 561,-342 567,-348 567,-354 567,-354 567,-413 567,-413 567,-419 561,-425 555,-425\"/>\n<text text-anchor=\"middle\" x=\"501\" y=\"-409.8\" font-family=\"Helvetica,sans-Serif\" font-size=\"14.00\" fill=\"#000000\">glicose &lt;= 132.5</text>\n<text text-anchor=\"middle\" x=\"501\" y=\"-394.8\" font-family=\"Helvetica,sans-Serif\" font-size=\"14.00\" fill=\"#000000\">gini = 0.454</text>\n<text text-anchor=\"middle\" x=\"501\" y=\"-379.8\" font-family=\"Helvetica,sans-Serif\" font-size=\"14.00\" fill=\"#000000\">samples = 576</text>\n<text text-anchor=\"middle\" x=\"501\" y=\"-364.8\" font-family=\"Helvetica,sans-Serif\" font-size=\"14.00\" fill=\"#000000\">value = [375, 201]</text>\n<text text-anchor=\"middle\" x=\"501\" y=\"-349.8\" font-family=\"Helvetica,sans-Serif\" font-size=\"14.00\" fill=\"#000000\">class = não</text>\n</g>\n<!-- 1 -->\n<g id=\"node2\" class=\"node\">\n<title>1</title>\n<path fill=\"#eca16c\" stroke=\"#000000\" d=\"M432,-306C432,-306 332,-306 332,-306 326,-306 320,-300 320,-294 320,-294 320,-235 320,-235 320,-229 326,-223 332,-223 332,-223 432,-223 432,-223 438,-223 444,-229 444,-235 444,-235 444,-294 444,-294 444,-300 438,-306 432,-306\"/>\n<text text-anchor=\"middle\" x=\"382\" y=\"-290.8\" font-family=\"Helvetica,sans-Serif\" font-size=\"14.00\" fill=\"#000000\">idade &lt;= 30.5</text>\n<text text-anchor=\"middle\" x=\"382\" y=\"-275.8\" font-family=\"Helvetica,sans-Serif\" font-size=\"14.00\" fill=\"#000000\">gini = 0.325</text>\n<text text-anchor=\"middle\" x=\"382\" y=\"-260.8\" font-family=\"Helvetica,sans-Serif\" font-size=\"14.00\" fill=\"#000000\">samples = 397</text>\n<text text-anchor=\"middle\" x=\"382\" y=\"-245.8\" font-family=\"Helvetica,sans-Serif\" font-size=\"14.00\" fill=\"#000000\">value = [316, 81]</text>\n<text text-anchor=\"middle\" x=\"382\" y=\"-230.8\" font-family=\"Helvetica,sans-Serif\" font-size=\"14.00\" fill=\"#000000\">class = não</text>\n</g>\n<!-- 0&#45;&gt;1 -->\n<g id=\"edge1\" class=\"edge\">\n<title>0&#45;&gt;1</title>\n<path fill=\"none\" stroke=\"#000000\" d=\"M459.3796,-341.8796C450.1931,-332.6931 440.3798,-322.8798 430.9336,-313.4336\"/>\n<polygon fill=\"#000000\" stroke=\"#000000\" points=\"433.3441,-310.8943 423.7981,-306.2981 428.3943,-315.8441 433.3441,-310.8943\"/>\n<text text-anchor=\"middle\" x=\"423.7981\" y=\"-327.5981\" font-family=\"Helvetica,sans-Serif\" font-size=\"14.00\" fill=\"#000000\">True</text>\n</g>\n<!-- 8 -->\n<g id=\"node9\" class=\"node\">\n<title>8</title>\n<path fill=\"#9acdf2\" stroke=\"#000000\" d=\"M684,-306C684,-306 584,-306 584,-306 578,-306 572,-300 572,-294 572,-294 572,-235 572,-235 572,-229 578,-223 584,-223 584,-223 684,-223 684,-223 690,-223 696,-229 696,-235 696,-235 696,-294 696,-294 696,-300 690,-306 684,-306\"/>\n<text text-anchor=\"middle\" x=\"634\" y=\"-290.8\" font-family=\"Helvetica,sans-Serif\" font-size=\"14.00\" fill=\"#000000\">glicose &lt;= 154.5</text>\n<text text-anchor=\"middle\" x=\"634\" y=\"-275.8\" font-family=\"Helvetica,sans-Serif\" font-size=\"14.00\" fill=\"#000000\">gini = 0.442</text>\n<text text-anchor=\"middle\" x=\"634\" y=\"-260.8\" font-family=\"Helvetica,sans-Serif\" font-size=\"14.00\" fill=\"#000000\">samples = 179</text>\n<text text-anchor=\"middle\" x=\"634\" y=\"-245.8\" font-family=\"Helvetica,sans-Serif\" font-size=\"14.00\" fill=\"#000000\">value = [59, 120]</text>\n<text text-anchor=\"middle\" x=\"634\" y=\"-230.8\" font-family=\"Helvetica,sans-Serif\" font-size=\"14.00\" fill=\"#000000\">class = sim</text>\n</g>\n<!-- 0&#45;&gt;8 -->\n<g id=\"edge8\" class=\"edge\">\n<title>0&#45;&gt;8</title>\n<path fill=\"none\" stroke=\"#000000\" d=\"M547.5169,-341.8796C557.8848,-332.6031 568.9671,-322.6874 579.6199,-313.1559\"/>\n<polygon fill=\"#000000\" stroke=\"#000000\" points=\"582.1659,-315.5744 587.2845,-306.2981 577.4983,-310.3577 582.1659,-315.5744\"/>\n<text text-anchor=\"middle\" x=\"585.8978\" y=\"-327.5596\" font-family=\"Helvetica,sans-Serif\" font-size=\"14.00\" fill=\"#000000\">False</text>\n</g>\n<!-- 2 -->\n<g id=\"node3\" class=\"node\">\n<title>2</title>\n<path fill=\"#e89051\" stroke=\"#000000\" d=\"M242,-187C242,-187 142,-187 142,-187 136,-187 130,-181 130,-175 130,-175 130,-116 130,-116 130,-110 136,-104 142,-104 142,-104 242,-104 242,-104 248,-104 254,-110 254,-116 254,-116 254,-175 254,-175 254,-181 248,-187 242,-187\"/>\n<text text-anchor=\"middle\" x=\"192\" y=\"-171.8\" font-family=\"Helvetica,sans-Serif\" font-size=\"14.00\" fill=\"#000000\">imc &lt;= 45.4</text>\n<text text-anchor=\"middle\" x=\"192\" y=\"-156.8\" font-family=\"Helvetica,sans-Serif\" font-size=\"14.00\" fill=\"#000000\">gini = 0.192</text>\n<text text-anchor=\"middle\" x=\"192\" y=\"-141.8\" font-family=\"Helvetica,sans-Serif\" font-size=\"14.00\" fill=\"#000000\">samples = 241</text>\n<text text-anchor=\"middle\" x=\"192\" y=\"-126.8\" font-family=\"Helvetica,sans-Serif\" font-size=\"14.00\" fill=\"#000000\">value = [215, 26]</text>\n<text text-anchor=\"middle\" x=\"192\" y=\"-111.8\" font-family=\"Helvetica,sans-Serif\" font-size=\"14.00\" fill=\"#000000\">class = não</text>\n</g>\n<!-- 1&#45;&gt;2 -->\n<g id=\"edge2\" class=\"edge\">\n<title>1&#45;&gt;2</title>\n<path fill=\"none\" stroke=\"#000000\" d=\"M319.7869,-225.5349C301.4856,-214.0726 281.334,-201.4513 262.5506,-189.6869\"/>\n<polygon fill=\"#000000\" stroke=\"#000000\" points=\"264.361,-186.6911 254.0282,-184.3493 260.6454,-192.6236 264.361,-186.6911\"/>\n</g>\n<!-- 5 -->\n<g id=\"node6\" class=\"node\">\n<title>5</title>\n<path fill=\"#f3c6a5\" stroke=\"#000000\" d=\"M432,-187C432,-187 332,-187 332,-187 326,-187 320,-181 320,-175 320,-175 320,-116 320,-116 320,-110 326,-104 332,-104 332,-104 432,-104 432,-104 438,-104 444,-110 444,-116 444,-116 444,-175 444,-175 444,-181 438,-187 432,-187\"/>\n<text text-anchor=\"middle\" x=\"382\" y=\"-171.8\" font-family=\"Helvetica,sans-Serif\" font-size=\"14.00\" fill=\"#000000\">imc &lt;= 26.9</text>\n<text text-anchor=\"middle\" x=\"382\" y=\"-156.8\" font-family=\"Helvetica,sans-Serif\" font-size=\"14.00\" fill=\"#000000\">gini = 0.457</text>\n<text text-anchor=\"middle\" x=\"382\" y=\"-141.8\" font-family=\"Helvetica,sans-Serif\" font-size=\"14.00\" fill=\"#000000\">samples = 156</text>\n<text text-anchor=\"middle\" x=\"382\" y=\"-126.8\" font-family=\"Helvetica,sans-Serif\" font-size=\"14.00\" fill=\"#000000\">value = [101, 55]</text>\n<text text-anchor=\"middle\" x=\"382\" y=\"-111.8\" font-family=\"Helvetica,sans-Serif\" font-size=\"14.00\" fill=\"#000000\">class = não</text>\n</g>\n<!-- 1&#45;&gt;5 -->\n<g id=\"edge5\" class=\"edge\">\n<title>1&#45;&gt;5</title>\n<path fill=\"none\" stroke=\"#000000\" d=\"M382,-222.8796C382,-214.6838 382,-205.9891 382,-197.5013\"/>\n<polygon fill=\"#000000\" stroke=\"#000000\" points=\"385.5001,-197.298 382,-187.2981 378.5001,-197.2981 385.5001,-197.298\"/>\n</g>\n<!-- 3 -->\n<g id=\"node4\" class=\"node\">\n<title>3</title>\n<path fill=\"#e88d4c\" stroke=\"#000000\" d=\"M112,-68C112,-68 12,-68 12,-68 6,-68 0,-62 0,-56 0,-56 0,-12 0,-12 0,-6 6,0 12,0 12,0 112,0 112,0 118,0 124,-6 124,-12 124,-12 124,-56 124,-56 124,-62 118,-68 112,-68\"/>\n<text text-anchor=\"middle\" x=\"62\" y=\"-52.8\" font-family=\"Helvetica,sans-Serif\" font-size=\"14.00\" fill=\"#000000\">gini = 0.163</text>\n<text text-anchor=\"middle\" x=\"62\" y=\"-37.8\" font-family=\"Helvetica,sans-Serif\" font-size=\"14.00\" fill=\"#000000\">samples = 235</text>\n<text text-anchor=\"middle\" x=\"62\" y=\"-22.8\" font-family=\"Helvetica,sans-Serif\" font-size=\"14.00\" fill=\"#000000\">value = [214, 21]</text>\n<text text-anchor=\"middle\" x=\"62\" y=\"-7.8\" font-family=\"Helvetica,sans-Serif\" font-size=\"14.00\" fill=\"#000000\">class = não</text>\n</g>\n<!-- 2&#45;&gt;3 -->\n<g id=\"edge3\" class=\"edge\">\n<title>2&#45;&gt;3</title>\n<path fill=\"none\" stroke=\"#000000\" d=\"M143.5928,-103.9815C132.5558,-94.5151 120.8347,-84.462 109.8223,-75.0168\"/>\n<polygon fill=\"#000000\" stroke=\"#000000\" points=\"111.8178,-72.1173 101.9487,-68.2637 107.2606,-77.4307 111.8178,-72.1173\"/>\n</g>\n<!-- 4 -->\n<g id=\"node5\" class=\"node\">\n<title>4</title>\n<path fill=\"#61b1ea\" stroke=\"#000000\" d=\"M229.5,-68C229.5,-68 154.5,-68 154.5,-68 148.5,-68 142.5,-62 142.5,-56 142.5,-56 142.5,-12 142.5,-12 142.5,-6 148.5,0 154.5,0 154.5,0 229.5,0 229.5,0 235.5,0 241.5,-6 241.5,-12 241.5,-12 241.5,-56 241.5,-56 241.5,-62 235.5,-68 229.5,-68\"/>\n<text text-anchor=\"middle\" x=\"192\" y=\"-52.8\" font-family=\"Helvetica,sans-Serif\" font-size=\"14.00\" fill=\"#000000\">gini = 0.278</text>\n<text text-anchor=\"middle\" x=\"192\" y=\"-37.8\" font-family=\"Helvetica,sans-Serif\" font-size=\"14.00\" fill=\"#000000\">samples = 6</text>\n<text text-anchor=\"middle\" x=\"192\" y=\"-22.8\" font-family=\"Helvetica,sans-Serif\" font-size=\"14.00\" fill=\"#000000\">value = [1, 5]</text>\n<text text-anchor=\"middle\" x=\"192\" y=\"-7.8\" font-family=\"Helvetica,sans-Serif\" font-size=\"14.00\" fill=\"#000000\">class = sim</text>\n</g>\n<!-- 2&#45;&gt;4 -->\n<g id=\"edge4\" class=\"edge\">\n<title>2&#45;&gt;4</title>\n<path fill=\"none\" stroke=\"#000000\" d=\"M192,-103.9815C192,-95.618 192,-86.7965 192,-78.3409\"/>\n<polygon fill=\"#000000\" stroke=\"#000000\" points=\"195.5001,-78.2636 192,-68.2637 188.5001,-78.2637 195.5001,-78.2636\"/>\n</g>\n<!-- 6 -->\n<g id=\"node7\" class=\"node\">\n<title>6</title>\n<path fill=\"#e58139\" stroke=\"#000000\" d=\"M354.5,-68C354.5,-68 271.5,-68 271.5,-68 265.5,-68 259.5,-62 259.5,-56 259.5,-56 259.5,-12 259.5,-12 259.5,-6 265.5,0 271.5,0 271.5,0 354.5,0 354.5,0 360.5,0 366.5,-6 366.5,-12 366.5,-12 366.5,-56 366.5,-56 366.5,-62 360.5,-68 354.5,-68\"/>\n<text text-anchor=\"middle\" x=\"313\" y=\"-52.8\" font-family=\"Helvetica,sans-Serif\" font-size=\"14.00\" fill=\"#000000\">gini = 0.0</text>\n<text text-anchor=\"middle\" x=\"313\" y=\"-37.8\" font-family=\"Helvetica,sans-Serif\" font-size=\"14.00\" fill=\"#000000\">samples = 29</text>\n<text text-anchor=\"middle\" x=\"313\" y=\"-22.8\" font-family=\"Helvetica,sans-Serif\" font-size=\"14.00\" fill=\"#000000\">value = [29, 0]</text>\n<text text-anchor=\"middle\" x=\"313\" y=\"-7.8\" font-family=\"Helvetica,sans-Serif\" font-size=\"14.00\" fill=\"#000000\">class = não</text>\n</g>\n<!-- 5&#45;&gt;6 -->\n<g id=\"edge6\" class=\"edge\">\n<title>5&#45;&gt;6</title>\n<path fill=\"none\" stroke=\"#000000\" d=\"M356.3069,-103.9815C350.8469,-95.1585 345.0716,-85.8258 339.5793,-76.9506\"/>\n<polygon fill=\"#000000\" stroke=\"#000000\" points=\"342.442,-74.9254 334.2035,-68.2637 336.4896,-78.609 342.442,-74.9254\"/>\n</g>\n<!-- 7 -->\n<g id=\"node8\" class=\"node\">\n<title>7</title>\n<path fill=\"#f9e1d0\" stroke=\"#000000\" d=\"M489,-68C489,-68 397,-68 397,-68 391,-68 385,-62 385,-56 385,-56 385,-12 385,-12 385,-6 391,0 397,0 397,0 489,0 489,0 495,0 501,-6 501,-12 501,-12 501,-56 501,-56 501,-62 495,-68 489,-68\"/>\n<text text-anchor=\"middle\" x=\"443\" y=\"-52.8\" font-family=\"Helvetica,sans-Serif\" font-size=\"14.00\" fill=\"#000000\">gini = 0.491</text>\n<text text-anchor=\"middle\" x=\"443\" y=\"-37.8\" font-family=\"Helvetica,sans-Serif\" font-size=\"14.00\" fill=\"#000000\">samples = 127</text>\n<text text-anchor=\"middle\" x=\"443\" y=\"-22.8\" font-family=\"Helvetica,sans-Serif\" font-size=\"14.00\" fill=\"#000000\">value = [72, 55]</text>\n<text text-anchor=\"middle\" x=\"443\" y=\"-7.8\" font-family=\"Helvetica,sans-Serif\" font-size=\"14.00\" fill=\"#000000\">class = não</text>\n</g>\n<!-- 5&#45;&gt;7 -->\n<g id=\"edge7\" class=\"edge\">\n<title>5&#45;&gt;7</title>\n<path fill=\"none\" stroke=\"#000000\" d=\"M404.7141,-103.9815C409.4908,-95.2504 414.5405,-86.0202 419.3506,-77.2281\"/>\n<polygon fill=\"#000000\" stroke=\"#000000\" points=\"422.5258,-78.7165 424.2549,-68.2637 416.3847,-75.3568 422.5258,-78.7165\"/>\n</g>\n<!-- 9 -->\n<g id=\"node10\" class=\"node\">\n<title>9</title>\n<path fill=\"#fef9f6\" stroke=\"#000000\" d=\"M680,-187C680,-187 588,-187 588,-187 582,-187 576,-181 576,-175 576,-175 576,-116 576,-116 576,-110 582,-104 588,-104 588,-104 680,-104 680,-104 686,-104 692,-110 692,-116 692,-116 692,-175 692,-175 692,-181 686,-187 680,-187\"/>\n<text text-anchor=\"middle\" x=\"634\" y=\"-171.8\" font-family=\"Helvetica,sans-Serif\" font-size=\"14.00\" fill=\"#000000\">imc &lt;= 29.95</text>\n<text text-anchor=\"middle\" x=\"634\" y=\"-156.8\" font-family=\"Helvetica,sans-Serif\" font-size=\"14.00\" fill=\"#000000\">gini = 0.5</text>\n<text text-anchor=\"middle\" x=\"634\" y=\"-141.8\" font-family=\"Helvetica,sans-Serif\" font-size=\"14.00\" fill=\"#000000\">samples = 86</text>\n<text text-anchor=\"middle\" x=\"634\" y=\"-126.8\" font-family=\"Helvetica,sans-Serif\" font-size=\"14.00\" fill=\"#000000\">value = [44, 42]</text>\n<text text-anchor=\"middle\" x=\"634\" y=\"-111.8\" font-family=\"Helvetica,sans-Serif\" font-size=\"14.00\" fill=\"#000000\">class = não</text>\n</g>\n<!-- 8&#45;&gt;9 -->\n<g id=\"edge9\" class=\"edge\">\n<title>8&#45;&gt;9</title>\n<path fill=\"none\" stroke=\"#000000\" d=\"M634,-222.8796C634,-214.6838 634,-205.9891 634,-197.5013\"/>\n<polygon fill=\"#000000\" stroke=\"#000000\" points=\"637.5001,-197.298 634,-187.2981 630.5001,-197.2981 637.5001,-197.298\"/>\n</g>\n<!-- 12 -->\n<g id=\"node13\" class=\"node\">\n<title>12</title>\n<path fill=\"#5fb0ea\" stroke=\"#000000\" d=\"M875,-187C875,-187 783,-187 783,-187 777,-187 771,-181 771,-175 771,-175 771,-116 771,-116 771,-110 777,-104 783,-104 783,-104 875,-104 875,-104 881,-104 887,-110 887,-116 887,-116 887,-175 887,-175 887,-181 881,-187 875,-187\"/>\n<text text-anchor=\"middle\" x=\"829\" y=\"-171.8\" font-family=\"Helvetica,sans-Serif\" font-size=\"14.00\" fill=\"#000000\">imc &lt;= 23.1</text>\n<text text-anchor=\"middle\" x=\"829\" y=\"-156.8\" font-family=\"Helvetica,sans-Serif\" font-size=\"14.00\" fill=\"#000000\">gini = 0.271</text>\n<text text-anchor=\"middle\" x=\"829\" y=\"-141.8\" font-family=\"Helvetica,sans-Serif\" font-size=\"14.00\" fill=\"#000000\">samples = 93</text>\n<text text-anchor=\"middle\" x=\"829\" y=\"-126.8\" font-family=\"Helvetica,sans-Serif\" font-size=\"14.00\" fill=\"#000000\">value = [15, 78]</text>\n<text text-anchor=\"middle\" x=\"829\" y=\"-111.8\" font-family=\"Helvetica,sans-Serif\" font-size=\"14.00\" fill=\"#000000\">class = sim</text>\n</g>\n<!-- 8&#45;&gt;12 -->\n<g id=\"edge12\" class=\"edge\">\n<title>8&#45;&gt;12</title>\n<path fill=\"none\" stroke=\"#000000\" d=\"M696.2354,-226.5205C717.2976,-213.6671 740.8973,-199.2652 762.2925,-186.2087\"/>\n<polygon fill=\"#000000\" stroke=\"#000000\" points=\"764.285,-189.0931 770.9978,-180.8962 760.6385,-183.1178 764.285,-189.0931\"/>\n</g>\n<!-- 10 -->\n<g id=\"node11\" class=\"node\">\n<title>10</title>\n<path fill=\"#eeab7b\" stroke=\"#000000\" d=\"M614.5,-68C614.5,-68 531.5,-68 531.5,-68 525.5,-68 519.5,-62 519.5,-56 519.5,-56 519.5,-12 519.5,-12 519.5,-6 525.5,0 531.5,0 531.5,0 614.5,0 614.5,0 620.5,0 626.5,-6 626.5,-12 626.5,-12 626.5,-56 626.5,-56 626.5,-62 620.5,-68 614.5,-68\"/>\n<text text-anchor=\"middle\" x=\"573\" y=\"-52.8\" font-family=\"Helvetica,sans-Serif\" font-size=\"14.00\" fill=\"#000000\">gini = 0.375</text>\n<text text-anchor=\"middle\" x=\"573\" y=\"-37.8\" font-family=\"Helvetica,sans-Serif\" font-size=\"14.00\" fill=\"#000000\">samples = 28</text>\n<text text-anchor=\"middle\" x=\"573\" y=\"-22.8\" font-family=\"Helvetica,sans-Serif\" font-size=\"14.00\" fill=\"#000000\">value = [21, 7]</text>\n<text text-anchor=\"middle\" x=\"573\" y=\"-7.8\" font-family=\"Helvetica,sans-Serif\" font-size=\"14.00\" fill=\"#000000\">class = não</text>\n</g>\n<!-- 9&#45;&gt;10 -->\n<g id=\"edge10\" class=\"edge\">\n<title>9&#45;&gt;10</title>\n<path fill=\"none\" stroke=\"#000000\" d=\"M611.2859,-103.9815C606.5092,-95.2504 601.4595,-86.0202 596.6494,-77.2281\"/>\n<polygon fill=\"#000000\" stroke=\"#000000\" points=\"599.6153,-75.3568 591.7451,-68.2637 593.4742,-78.7165 599.6153,-75.3568\"/>\n</g>\n<!-- 11 -->\n<g id=\"node12\" class=\"node\">\n<title>11</title>\n<path fill=\"#bbddf6\" stroke=\"#000000\" d=\"M749,-68C749,-68 657,-68 657,-68 651,-68 645,-62 645,-56 645,-56 645,-12 645,-12 645,-6 651,0 657,0 657,0 749,0 749,0 755,0 761,-6 761,-12 761,-12 761,-56 761,-56 761,-62 755,-68 749,-68\"/>\n<text text-anchor=\"middle\" x=\"703\" y=\"-52.8\" font-family=\"Helvetica,sans-Serif\" font-size=\"14.00\" fill=\"#000000\">gini = 0.479</text>\n<text text-anchor=\"middle\" x=\"703\" y=\"-37.8\" font-family=\"Helvetica,sans-Serif\" font-size=\"14.00\" fill=\"#000000\">samples = 58</text>\n<text text-anchor=\"middle\" x=\"703\" y=\"-22.8\" font-family=\"Helvetica,sans-Serif\" font-size=\"14.00\" fill=\"#000000\">value = [23, 35]</text>\n<text text-anchor=\"middle\" x=\"703\" y=\"-7.8\" font-family=\"Helvetica,sans-Serif\" font-size=\"14.00\" fill=\"#000000\">class = sim</text>\n</g>\n<!-- 9&#45;&gt;11 -->\n<g id=\"edge11\" class=\"edge\">\n<title>9&#45;&gt;11</title>\n<path fill=\"none\" stroke=\"#000000\" d=\"M659.6931,-103.9815C665.1531,-95.1585 670.9284,-85.8258 676.4207,-76.9506\"/>\n<polygon fill=\"#000000\" stroke=\"#000000\" points=\"679.5104,-78.609 681.7965,-68.2637 673.558,-74.9254 679.5104,-78.609\"/>\n</g>\n<!-- 13 -->\n<g id=\"node14\" class=\"node\">\n<title>13</title>\n<path fill=\"#e58139\" stroke=\"#000000\" d=\"M866.5,-68C866.5,-68 791.5,-68 791.5,-68 785.5,-68 779.5,-62 779.5,-56 779.5,-56 779.5,-12 779.5,-12 779.5,-6 785.5,0 791.5,0 791.5,0 866.5,0 866.5,0 872.5,0 878.5,-6 878.5,-12 878.5,-12 878.5,-56 878.5,-56 878.5,-62 872.5,-68 866.5,-68\"/>\n<text text-anchor=\"middle\" x=\"829\" y=\"-52.8\" font-family=\"Helvetica,sans-Serif\" font-size=\"14.00\" fill=\"#000000\">gini = 0.0</text>\n<text text-anchor=\"middle\" x=\"829\" y=\"-37.8\" font-family=\"Helvetica,sans-Serif\" font-size=\"14.00\" fill=\"#000000\">samples = 2</text>\n<text text-anchor=\"middle\" x=\"829\" y=\"-22.8\" font-family=\"Helvetica,sans-Serif\" font-size=\"14.00\" fill=\"#000000\">value = [2, 0]</text>\n<text text-anchor=\"middle\" x=\"829\" y=\"-7.8\" font-family=\"Helvetica,sans-Serif\" font-size=\"14.00\" fill=\"#000000\">class = não</text>\n</g>\n<!-- 12&#45;&gt;13 -->\n<g id=\"edge13\" class=\"edge\">\n<title>12&#45;&gt;13</title>\n<path fill=\"none\" stroke=\"#000000\" d=\"M829,-103.9815C829,-95.618 829,-86.7965 829,-78.3409\"/>\n<polygon fill=\"#000000\" stroke=\"#000000\" points=\"832.5001,-78.2636 829,-68.2637 825.5001,-78.2637 832.5001,-78.2636\"/>\n</g>\n<!-- 14 -->\n<g id=\"node15\" class=\"node\">\n<title>14</title>\n<path fill=\"#5aade9\" stroke=\"#000000\" d=\"M1001,-68C1001,-68 909,-68 909,-68 903,-68 897,-62 897,-56 897,-56 897,-12 897,-12 897,-6 903,0 909,0 909,0 1001,0 1001,0 1007,0 1013,-6 1013,-12 1013,-12 1013,-56 1013,-56 1013,-62 1007,-68 1001,-68\"/>\n<text text-anchor=\"middle\" x=\"955\" y=\"-52.8\" font-family=\"Helvetica,sans-Serif\" font-size=\"14.00\" fill=\"#000000\">gini = 0.245</text>\n<text text-anchor=\"middle\" x=\"955\" y=\"-37.8\" font-family=\"Helvetica,sans-Serif\" font-size=\"14.00\" fill=\"#000000\">samples = 91</text>\n<text text-anchor=\"middle\" x=\"955\" y=\"-22.8\" font-family=\"Helvetica,sans-Serif\" font-size=\"14.00\" fill=\"#000000\">value = [13, 78]</text>\n<text text-anchor=\"middle\" x=\"955\" y=\"-7.8\" font-family=\"Helvetica,sans-Serif\" font-size=\"14.00\" fill=\"#000000\">class = sim</text>\n</g>\n<!-- 12&#45;&gt;14 -->\n<g id=\"edge14\" class=\"edge\">\n<title>12&#45;&gt;14</title>\n<path fill=\"none\" stroke=\"#000000\" d=\"M875.9177,-103.9815C886.6152,-94.5151 897.9756,-84.462 908.6492,-75.0168\"/>\n<polygon fill=\"#000000\" stroke=\"#000000\" points=\"911.1111,-77.5118 916.2805,-68.2637 906.4722,-72.2696 911.1111,-77.5118\"/>\n</g>\n</g>\n</svg>\n"
          },
          "metadata": {},
          "execution_count": 36
        }
      ]
    },
    {
      "cell_type": "markdown",
      "metadata": {
        "id": "S-F3XZMM3_Ts"
      },
      "source": [
        "#GridSearch"
      ]
    },
    {
      "cell_type": "code",
      "metadata": {
        "id": "MqwMdjK34B5k"
      },
      "source": [
        "from sklearn.model_selection import StratifiedKFold\n",
        "from sklearn.model_selection import GridSearchCV\n",
        "from sklearn.metrics import f1_score, make_scorer"
      ],
      "execution_count": 37,
      "outputs": []
    },
    {
      "cell_type": "code",
      "metadata": {
        "colab": {
          "base_uri": "https://localhost:8080/"
        },
        "id": "NuohfNIYsKvY",
        "outputId": "c113a457-7396-4547-b7aa-e3d7034212b9"
      },
      "source": [
        "#definindo hiperparâmetros\n",
        "hiperparam = {'kernel':('sigmoid', 'rbf'), 'C':[0.01, 1, 10]}\n",
        "\n",
        "#definindo o tipo de validacao cruzada e o numero de folds\n",
        "cv_strat = StratifiedKFold(n_splits = 10)\n",
        "\n",
        "#instânciando meu classificador\n",
        "classifier = SVC()\n",
        "\n",
        "#definindo a estrategia de score a partir da metrica f1\n",
        "f1 = make_scorer(f1_score)\n",
        "\n",
        "#instanciando e modelando o grid search com os hiperparametros e a validação definidas.\n",
        "grid_cv = GridSearchCV(classifier, hiperparam, cv = cv_strat, scoring = f1)\n",
        "grid_cv.fit(treino_x, treino_y)"
      ],
      "execution_count": 38,
      "outputs": [
        {
          "output_type": "execute_result",
          "data": {
            "text/plain": [
              "GridSearchCV(cv=StratifiedKFold(n_splits=10, random_state=None, shuffle=False),\n",
              "             error_score=nan,\n",
              "             estimator=SVC(C=1.0, break_ties=False, cache_size=200,\n",
              "                           class_weight=None, coef0=0.0,\n",
              "                           decision_function_shape='ovr', degree=3,\n",
              "                           gamma='scale', kernel='rbf', max_iter=-1,\n",
              "                           probability=False, random_state=None, shrinking=True,\n",
              "                           tol=0.001, verbose=False),\n",
              "             iid='deprecated', n_jobs=None,\n",
              "             param_grid={'C': [0.01, 1, 10], 'kernel': ('sigmoid', 'rbf')},\n",
              "             pre_dispatch='2*n_jobs', refit=True, return_train_score=False,\n",
              "             scoring=make_scorer(f1_score), verbose=0)"
            ]
          },
          "metadata": {},
          "execution_count": 38
        }
      ]
    },
    {
      "cell_type": "code",
      "metadata": {
        "colab": {
          "base_uri": "https://localhost:8080/"
        },
        "id": "V4aMgN3QsXCn",
        "outputId": "7aaab2e2-0e73-4973-81b2-744d31002f75"
      },
      "source": [
        "#vamos olhar para todos os resultados encontrados!\n",
        "print('Resumo de todos os resultados encontrados:\\n\\n', grid_cv.cv_results_)"
      ],
      "execution_count": 39,
      "outputs": [
        {
          "output_type": "stream",
          "name": "stdout",
          "text": [
            "Resumo de todos os resultados encontrados:\n",
            "\n",
            " {'mean_fit_time': array([0.01243119, 0.00949569, 0.00811784, 0.00910356, 0.00812941,\n",
            "       0.01183181]), 'std_fit_time': array([0.00185878, 0.00165516, 0.00025171, 0.00218775, 0.00059742,\n",
            "       0.00120545]), 'mean_score_time': array([0.0027766 , 0.0023679 , 0.0018713 , 0.00200632, 0.00187037,\n",
            "       0.00205169]), 'std_score_time': array([9.60212382e-04, 7.75752940e-04, 5.06995637e-05, 4.88057978e-04,\n",
            "       2.52820672e-04, 3.46361760e-04]), 'param_C': masked_array(data=[0.01, 0.01, 1, 1, 10, 10],\n",
            "             mask=[False, False, False, False, False, False],\n",
            "       fill_value='?',\n",
            "            dtype=object), 'param_kernel': masked_array(data=['sigmoid', 'rbf', 'sigmoid', 'rbf', 'sigmoid', 'rbf'],\n",
            "             mask=[False, False, False, False, False, False],\n",
            "       fill_value='?',\n",
            "            dtype=object), 'params': [{'C': 0.01, 'kernel': 'sigmoid'}, {'C': 0.01, 'kernel': 'rbf'}, {'C': 1, 'kernel': 'sigmoid'}, {'C': 1, 'kernel': 'rbf'}, {'C': 10, 'kernel': 'sigmoid'}, {'C': 10, 'kernel': 'rbf'}], 'split0_test_score': array([0.        , 0.        , 0.68292683, 0.625     , 0.61904762,\n",
            "       0.4516129 ]), 'split1_test_score': array([0.        , 0.        , 0.56521739, 0.65116279, 0.43478261,\n",
            "       0.53061224]), 'split2_test_score': array([0.        , 0.        , 0.52631579, 0.61111111, 0.48648649,\n",
            "       0.55555556]), 'split3_test_score': array([0.        , 0.        , 0.56410256, 0.57142857, 0.48780488,\n",
            "       0.51282051]), 'split4_test_score': array([0.        , 0.        , 0.61538462, 0.73684211, 0.54054054,\n",
            "       0.7804878 ]), 'split5_test_score': array([0.        , 0.        , 0.6       , 0.55555556, 0.6       ,\n",
            "       0.59459459]), 'split6_test_score': array([0.        , 0.        , 0.56410256, 0.72727273, 0.45      ,\n",
            "       0.66666667]), 'split7_test_score': array([0.        , 0.        , 0.58823529, 0.57142857, 0.47058824,\n",
            "       0.73684211]), 'split8_test_score': array([0.        , 0.        , 0.57894737, 0.58823529, 0.47368421,\n",
            "       0.47058824]), 'split9_test_score': array([0.        , 0.        , 0.65      , 0.625     , 0.53658537,\n",
            "       0.66666667]), 'mean_test_score': array([0.        , 0.        , 0.59352324, 0.62630367, 0.50995199,\n",
            "       0.59664473]), 'std_test_score': array([0.        , 0.        , 0.04357996, 0.05978523, 0.05899674,\n",
            "       0.10642533]), 'rank_test_score': array([5, 5, 3, 1, 4, 2], dtype=int32)}\n"
          ]
        }
      ]
    },
    {
      "cell_type": "code",
      "metadata": {
        "colab": {
          "base_uri": "https://localhost:8080/"
        },
        "id": "yQT1sUqlsav4",
        "outputId": "d8b148c9-4e66-4711-80cd-9b429285388c"
      },
      "source": [
        "#vamos olhar para os melhores resultados encontrados pelo Grid Search\n",
        "print('Melhor resultado f1:', grid_cv.best_score_)\n",
        "print('\\n\\nMelhor configuração de hiperparâmetros:', grid_cv.best_params_)\n",
        "\n",
        "print( '\\n\\nConfigurações de todos os hiperparâmetros do melhor estimado encontrado pelo GridSearch: \\n', grid_cv.best_estimator_)"
      ],
      "execution_count": 40,
      "outputs": [
        {
          "output_type": "stream",
          "name": "stdout",
          "text": [
            "Melhor resultado f1: 0.6263036726875016\n",
            "\n",
            "\n",
            "Melhor configuração de hiperparâmetros: {'C': 1, 'kernel': 'rbf'}\n",
            "\n",
            "\n",
            "Configurações de todos os hiperparâmetros do melhor estimado encontrado pelo GridSearch: \n",
            " SVC(C=1, break_ties=False, cache_size=200, class_weight=None, coef0=0.0,\n",
            "    decision_function_shape='ovr', degree=3, gamma='scale', kernel='rbf',\n",
            "    max_iter=-1, probability=False, random_state=None, shrinking=True,\n",
            "    tol=0.001, verbose=False)\n"
          ]
        }
      ]
    },
    {
      "cell_type": "markdown",
      "metadata": {
        "id": "1Tm0s0I1s4JW"
      },
      "source": [
        "#SVC com os parametros do GridSearch aplicados"
      ]
    },
    {
      "cell_type": "code",
      "metadata": {
        "id": "VwUg77aps2ze"
      },
      "source": [
        "from sklearn.svm import SVC\n",
        "modelo = SVC(C=1, break_ties=False, cache_size=200, class_weight=None, coef0=0.0,\n",
        "    decision_function_shape='ovr', degree=3, gamma='scale', kernel='rbf',\n",
        "    max_iter=-1, probability=False, random_state=None, shrinking=True,\n",
        "    tol=0.001, verbose=False)\n",
        "modelo.fit(treino_x, treino_y)\n",
        "previsoes = modelo.predict(teste_x)"
      ],
      "execution_count": 41,
      "outputs": []
    },
    {
      "cell_type": "code",
      "metadata": {
        "id": "51I7zZw9tF5M"
      },
      "source": [
        "acuracia = accuracy_score(teste_y, previsoes) * 100\n",
        "F1 =  metrics.f1_score(teste_y, previsoes) * 100\n",
        "AUCROC = metrics.roc_auc_score(teste_y, previsoes) * 100"
      ],
      "execution_count": 42,
      "outputs": []
    },
    {
      "cell_type": "code",
      "metadata": {
        "colab": {
          "base_uri": "https://localhost:8080/"
        },
        "id": "rMrYpo8LtIDc",
        "outputId": "b268b955-6f21-4046-8eef-76172ff672f6"
      },
      "source": [
        "print('Matriz de Confusão\\n', metrics.confusion_matrix(teste_y, previsoes)) \n",
        "print(\"\\nAcurácia \\n %.2f%%\" % acuracia)\n",
        "print(\"\\nF1 \\n %.2f%%\" % F1)\n",
        "print(\"\\nAUCROC \\n %.2f%%\" % AUCROC)"
      ],
      "execution_count": 43,
      "outputs": [
        {
          "output_type": "stream",
          "name": "stdout",
          "text": [
            "Matriz de Confusão\n",
            " [[107  18]\n",
            " [ 34  33]]\n",
            "\n",
            "Acurácia \n",
            " 72.92%\n",
            "\n",
            "F1 \n",
            " 55.93%\n",
            "\n",
            "AUCROC \n",
            " 67.43%\n"
          ]
        }
      ]
    }
  ]
}