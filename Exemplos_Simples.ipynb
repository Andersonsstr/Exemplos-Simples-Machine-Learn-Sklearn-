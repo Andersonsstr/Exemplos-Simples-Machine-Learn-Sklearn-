{
  "nbformat": 4,
  "nbformat_minor": 0,
  "metadata": {
    "colab": {
      "name": "Exemplos Simples.ipynb",
      "provenance": [],
      "collapsed_sections": [],
      "authorship_tag": "ABX9TyOv3wDlsCaxzc8O8aPNC2xY",
      "include_colab_link": true
    },
    "kernelspec": {
      "name": "python3",
      "display_name": "Python 3"
    },
    "language_info": {
      "name": "python"
    }
  },
  "cells": [
    {
      "cell_type": "markdown",
      "metadata": {
        "id": "view-in-github",
        "colab_type": "text"
      },
      "source": [
        "<a href=\"https://colab.research.google.com/github/Andersonsstr/Exemplos-Simples-Machine-Learn-Sklearn-/blob/main/Exemplos_Simples.ipynb\" target=\"_parent\"><img src=\"https://colab.research.google.com/assets/colab-badge.svg\" alt=\"Open In Colab\"/></a>"
      ]
    },
    {
      "cell_type": "markdown",
      "metadata": {
        "id": "MIrBTDxvIf_o"
      },
      "source": [
        "Preparando os dados para utilizar nos testes e dividindo eles para treino e teste"
      ]
    },
    {
      "cell_type": "code",
      "metadata": {
        "id": "FLziuZWBB41u"
      },
      "source": [
        "import numpy as np\n",
        "from sklearn.model_selection import train_test_split\n",
        "\n",
        "X = np.array([[-1, -1], [-2, -1], [1, 1], [2, 1], [-4, -3], [-5, -1], [5, 2], [3, 2]])\n",
        "y = np.array([1, 1, 2, 2, 1, 1, 2, 2])\n",
        "X_train, X_test, y_train, y_test = train_test_split(X, y, random_state=0)"
      ],
      "execution_count": null,
      "outputs": []
    },
    {
      "cell_type": "markdown",
      "metadata": {
        "id": "g49GVcWTBt-V"
      },
      "source": [
        "#Regressão Logística"
      ]
    },
    {
      "cell_type": "code",
      "metadata": {
        "id": "oPqSq79k0Izu"
      },
      "source": [
        "from sklearn.linear_model import LogisticRegression\n",
        "lr = LogisticRegression()\n",
        "model = lr.fit(X_train, y_train)"
      ],
      "execution_count": null,
      "outputs": []
    },
    {
      "cell_type": "code",
      "metadata": {
        "colab": {
          "base_uri": "https://localhost:8080/"
        },
        "id": "26lQRS7u14zR",
        "outputId": "34c8050c-1fa4-4957-92c8-1849e6755171"
      },
      "source": [
        "print(\"Dados de teste: \", X_test)\n",
        "print(\"Predictions X Test:\", model.predict(X_test))\n",
        "print(\"Predictions Manual:\", model.predict([[-1, -2], [1,0], [10,20], [-1,-1]]))"
      ],
      "execution_count": null,
      "outputs": [
        {
          "output_type": "stream",
          "text": [
            "Dados de teste:  [[5 2]\n",
            " [1 1]]\n",
            "Predictions X Test: [2 2]\n",
            "Predictions Manual: [1 2 2 1]\n"
          ],
          "name": "stdout"
        }
      ]
    },
    {
      "cell_type": "markdown",
      "metadata": {
        "id": "Zq5ZXpHBCgqG"
      },
      "source": [
        "#Gradiente Estocástico Descendente\n"
      ]
    },
    {
      "cell_type": "code",
      "metadata": {
        "colab": {
          "base_uri": "https://localhost:8080/"
        },
        "id": "Dl1jEQdlCewd",
        "outputId": "f49152ff-1882-4954-da38-3c10fc78da7e"
      },
      "source": [
        "from sklearn.linear_model import SGDClassifier\n",
        "from sklearn.preprocessing import StandardScaler\n",
        "from sklearn.pipeline import make_pipeline\n",
        "\n",
        "clf = make_pipeline(StandardScaler(),\n",
        "                    SGDClassifier(max_iter=1000, tol=1e-3))\n",
        "clf.fit(X, y)"
      ],
      "execution_count": null,
      "outputs": [
        {
          "output_type": "execute_result",
          "data": {
            "text/plain": [
              "Pipeline(memory=None,\n",
              "         steps=[('standardscaler',\n",
              "                 StandardScaler(copy=True, with_mean=True, with_std=True)),\n",
              "                ('sgdclassifier',\n",
              "                 SGDClassifier(alpha=0.0001, average=False, class_weight=None,\n",
              "                               early_stopping=False, epsilon=0.1, eta0=0.0,\n",
              "                               fit_intercept=True, l1_ratio=0.15,\n",
              "                               learning_rate='optimal', loss='hinge',\n",
              "                               max_iter=1000, n_iter_no_change=5, n_jobs=None,\n",
              "                               penalty='l2', power_t=0.5, random_state=None,\n",
              "                               shuffle=True, tol=0.001, validation_fraction=0.1,\n",
              "                               verbose=0, warm_start=False))],\n",
              "         verbose=False)"
            ]
          },
          "metadata": {
            "tags": []
          },
          "execution_count": 12
        }
      ]
    },
    {
      "cell_type": "code",
      "metadata": {
        "colab": {
          "base_uri": "https://localhost:8080/"
        },
        "id": "XIHiMAg3C4nV",
        "outputId": "0b848bea-a199-4418-f19b-756a5c865ff0"
      },
      "source": [
        "print(clf.predict([[2, 3], [-1, -2], [1,0], [-1, -3]]))"
      ],
      "execution_count": null,
      "outputs": [
        {
          "output_type": "stream",
          "text": [
            "[2 1 2 1]\n"
          ],
          "name": "stdout"
        }
      ]
    },
    {
      "cell_type": "markdown",
      "metadata": {
        "id": "-_v89LdHCUlt"
      },
      "source": [
        "#Classificador de Árvore Randômica"
      ]
    },
    {
      "cell_type": "code",
      "metadata": {
        "id": "AIRqCCh95kB5"
      },
      "source": [
        "from sklearn.ensemble import RandomForestClassifier\n",
        "\n",
        "rf = RandomForestClassifier()\n",
        "rf_model = rf.fit(X_train, y_train)"
      ],
      "execution_count": null,
      "outputs": []
    },
    {
      "cell_type": "code",
      "metadata": {
        "colab": {
          "base_uri": "https://localhost:8080/"
        },
        "id": "vgfuhQ-lDHh5",
        "outputId": "7ff3bcf7-d874-493a-e7f8-e94ee8f55783"
      },
      "source": [
        "\n",
        "print(\"Predictions X Test:\", rf_model.predict(X_test))\n",
        "print(\"Predictions Manual:\", rf_model.predict([[-1, -2], [1,2], [10,20], [-1,-1]]))"
      ],
      "execution_count": null,
      "outputs": [
        {
          "output_type": "stream",
          "text": [
            "Predictions X Test: [2 2]\n",
            "Predictions Manual: [1 2 2 1]\n"
          ],
          "name": "stdout"
        }
      ]
    },
    {
      "cell_type": "markdown",
      "metadata": {
        "id": "rknJwo_aEGJ8"
      },
      "source": [
        "#Pré Processamento"
      ]
    },
    {
      "cell_type": "markdown",
      "metadata": {
        "id": "KaxvIGcGEVyQ"
      },
      "source": [
        "Na maioria dos projetos de aprendizado de máquina do mundo real, os dados que você usa não estarão necessariamente prontos para treinar um modelo. É altamente provável que primeiro você precise executar algumas etapas de pré-processamento e transformação de dados, como manipulação de valores ausentes, transformação de dados categóricos em numéricos ou aplicação de escala de recursos.\n",
        "\n",
        "O Scikit-learn possui métodos integrados para executar essas etapas de pré-processamento. Por exemplo, o SimpleImputer () preenche os valores ausentes usando um método de sua escolha."
      ]
    },
    {
      "cell_type": "code",
      "metadata": {
        "id": "9MHay-_eEfpG"
      },
      "source": [
        "from sklearn.impute import SimpleImputer\n",
        "\n",
        "imputer = SimpleImputer(strategy='mean')\n",
        "X_train_clean = imputer.fit(X_train)"
      ],
      "execution_count": null,
      "outputs": []
    },
    {
      "cell_type": "markdown",
      "metadata": {
        "id": "vyxfmBniF_mX"
      },
      "source": [
        "#Avaliação"
      ]
    },
    {
      "cell_type": "markdown",
      "metadata": {
        "id": "0BIoeSCdGYap"
      },
      "source": [
        "Uma vez que um modelo tenha sido treinado, você precisa medir o quão bom ele é na previsão de novos dados. Esta etapa é conhecida como avaliação do modelo e a métrica que você escolher será determinada pela tarefa que você está tentando resolver. Por exemplo, normalmente em um problema de regressão, você pode escolher RMSE, enquanto para classificação você pode escolher a pontuação F1.\n",
        "\n",
        "Todos os estimadores incluem um método score () que retorna uma métrica padrão que é mais relevante para a tarefa de aprendizado de máquina que executam.\n",
        "\n",
        "Além disso, o Scikit-learn possui um conjunto de funções métricas que fornecem uma avaliação mais detalhada para um modelo. Como exemplo, para tarefas de classificação, a biblioteca possui um relatório de classificação que fornece precisão, recall, pontuação F1 e exatidão geral."
      ]
    },
    {
      "cell_type": "code",
      "metadata": {
        "colab": {
          "base_uri": "https://localhost:8080/"
        },
        "id": "6rY1Mmd-GNte",
        "outputId": "324b0874-888f-402f-cedc-1fd89a0f0427"
      },
      "source": [
        "from sklearn.ensemble import RandomForestClassifier\n",
        "\n",
        "rf = RandomForestClassifier()\n",
        "rf_model = rf.fit(X_train, y_train)\n",
        "rf_predictions = rf_model.predict(X_test)\n",
        "print(classification_report(rf_predictions, y_test))"
      ],
      "execution_count": 20,
      "outputs": [
        {
          "output_type": "stream",
          "text": [
            "              precision    recall  f1-score   support\n",
            "\n",
            "           2       1.00      1.00      1.00         2\n",
            "\n",
            "    accuracy                           1.00         2\n",
            "   macro avg       1.00      1.00      1.00         2\n",
            "weighted avg       1.00      1.00      1.00         2\n",
            "\n"
          ],
          "name": "stdout"
        }
      ]
    },
    {
      "cell_type": "code",
      "metadata": {
        "id": "7Z-12DIIom3a"
      },
      "source": [
        ""
      ],
      "execution_count": null,
      "outputs": []
    },
    {
      "cell_type": "code",
      "metadata": {
        "id": "3xaHvXwjonLu"
      },
      "source": [
        ""
      ],
      "execution_count": null,
      "outputs": []
    }
  ]
}